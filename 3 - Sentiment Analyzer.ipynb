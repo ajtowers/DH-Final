{
 "cells": [
  {
   "cell_type": "code",
   "execution_count": 1,
   "metadata": {},
   "outputs": [],
   "source": [
    "from IPython.core.interactiveshell import InteractiveShell\n",
    "InteractiveShell.ast_node_interactivity = \"all\"\n",
    "import warnings\n",
    "warnings.filterwarnings('ignore')\n",
    "RS = sum(list(map(ord, 'Dale Boca')))\n",
    "\n",
    "import pandas as pd\n",
    "pd.option_context('display.max_rows', None, 'display.max_columns', None)\n",
    "pd.set_option('display.max_colwidth', -1)\n",
    "\n",
    "import numpy as np\n",
    "import os;"
   ]
  },
  {
   "cell_type": "markdown",
   "metadata": {},
   "source": [
    "### Análisis de Polaridad de los tweets"
   ]
  },
  {
   "cell_type": "code",
   "execution_count": 2,
   "metadata": {},
   "outputs": [
    {
     "name": "stdout",
     "output_type": "stream",
     "text": [
      "[nltk_data] Downloading package vader_lexicon to\n",
      "[nltk_data]     /Users/arturo.torrestey/nltk_data...\n",
      "[nltk_data]   Package vader_lexicon is already up-to-date!\n"
     ]
    },
    {
     "data": {
      "text/plain": [
       "True"
      ]
     },
     "execution_count": 2,
     "metadata": {},
     "output_type": "execute_result"
    }
   ],
   "source": [
    "import nltk\n",
    "from nltk.sentiment.vader import SentimentIntensityAnalyzer\n",
    "nltk.download('vader_lexicon')\n",
    "\n",
    "def polaridad_vader(lim_pos=0.25, lim_neg=-0.25, train=True):\n",
    "    '''\n",
    "    input = archivo de tweets\n",
    "    output = dataframe con cantidad de tweets pos, neg y neutros agrupados por fecha\n",
    "    '''\n",
    "    \n",
    "    # armo el nombre del archivo a leer de los parametros\n",
    "    dir_name = 'data'    \n",
    "    file_name = 'tweets_train.csv' if train else 'tweets_test.csv'\n",
    "          \n",
    "    filename  = os.path.join(dir_name, file_name)\n",
    "    \n",
    "    # leo archivo y le cambio los nombres a las columnas\n",
    "    tweets = pd.read_csv(filename, index_col=0)\n",
    "    \n",
    "    # defino la polaridad usando libreria Vader\n",
    "    sid = SentimentIntensityAnalyzer()\n",
    "    tweets['polarity'] = [sid.polarity_scores(str(x))['compound'] for x in tweets['text']]\n",
    "    \n",
    "    # conteo de resultados en base a los límites predefinidos\n",
    "    tweets.loc[tweets.polarity >= lim_pos, 'pos'] = 1\n",
    "    tweets.loc[tweets.polarity <= lim_neg, 'neg'] = 1\n",
    "    tweets.loc[((tweets.polarity < lim_pos) & (tweets.polarity > lim_neg)), 'neu'] = 1\n",
    "    \n",
    "    # fillna con 0\n",
    "    tweets[['pos', 'neg', 'neu']] = tweets[['pos', 'neg', 'neu']].fillna(value=0)\n",
    "    \n",
    "    # selecciono las columnas para trabajar\n",
    "    tweets = tweets.loc[:, ['date', 'pos', 'neg', 'neu']]\n",
    "    \n",
    "    # agrupo tweets por fecha, sumarizando la cantidad de pos, neg y neutros\n",
    "    grouped = tweets.groupby('date').sum()\n",
    "    \n",
    "    # retorno df con resultados\n",
    "    return grouped\n",
    "    "
   ]
  },
  {
   "cell_type": "code",
   "execution_count": 3,
   "metadata": {},
   "outputs": [],
   "source": [
    "from textblob import TextBlob\n",
    "\n",
    "def polaridad_textblob(lim_pos=0.25, lim_neg=-0.25, train=True):\n",
    "    '''\n",
    "    input = archivo de tweets\n",
    "    output = dataframe con cantidad de tweets pos, neg y neutros agrupados por fecha\n",
    "    '''\n",
    "    \n",
    "    # armo el nombre del archivo a leer de los parametros\n",
    "    dir_name = 'data'    \n",
    "    file_name = 'tweets_train.csv' if train else 'tweets_test.csv'\n",
    "          \n",
    "    filename  = os.path.join(dir_name, file_name)\n",
    "    \n",
    "    # leo archivo y le cambio los nombres a las columnas\n",
    "    tweets = pd.read_csv(filename, index_col=0)\n",
    "    \n",
    "    # defino la polaridad usando libreria TextBlob\n",
    "    tweets['polarity'] = [TextBlob(str(x)).sentiment[0] for x in tweets['text']]\n",
    "    \n",
    "    # conteo de resultados en base a los límites predefinidos\n",
    "    tweets.loc[tweets.polarity >= lim_pos, 'pos'] = 1\n",
    "    tweets.loc[tweets.polarity <= lim_neg, 'neg'] = 1\n",
    "    tweets.loc[((tweets.polarity < lim_pos) & (tweets.polarity > lim_neg)), 'neu'] = 1\n",
    "    \n",
    "    # fillna con 0\n",
    "    tweets[['pos', 'neg', 'neu']] = tweets[['pos', 'neg', 'neu']].fillna(value=0)\n",
    "    \n",
    "    # selecciono las columnas para trabajar\n",
    "    tweets = tweets.loc[:, ['date', 'pos', 'neg', 'neu']]\n",
    "    \n",
    "    # agrupo tweets por fecha, sumarizando la cantidad de pos, neg y neutros\n",
    "    grouped = tweets.groupby('date').sum()\n",
    "    \n",
    "    # retorno df con resultados\n",
    "    return grouped\n",
    "    "
   ]
  },
  {
   "cell_type": "code",
   "execution_count": 4,
   "metadata": {},
   "outputs": [],
   "source": [
    "sent_train = polaridad_vader(train=True)\n",
    "sent_test  = polaridad_vader(train=False)"
   ]
  },
  {
   "cell_type": "markdown",
   "metadata": {},
   "source": [
    "### Armado de datasets finales"
   ]
  },
  {
   "cell_type": "code",
   "execution_count": 7,
   "metadata": {},
   "outputs": [],
   "source": [
    "prices_train = pd.read_csv('data/prices_train.csv', index_col=0)\n",
    "prices_test = pd.read_csv('data/prices_test.csv', index_col=0)"
   ]
  },
  {
   "cell_type": "code",
   "execution_count": 8,
   "metadata": {},
   "outputs": [],
   "source": [
    "trainset = pd.merge(sent_train, prices_train, on='date', how='left')\n",
    "testset = pd.merge(sent_test, prices_test, on='date', how='left')"
   ]
  },
  {
   "cell_type": "code",
   "execution_count": 9,
   "metadata": {},
   "outputs": [],
   "source": [
    "trainset.to_csv('data/trainset.csv')\n",
    "testset.to_csv('data/testset.csv')"
   ]
  },
  {
   "cell_type": "code",
   "execution_count": null,
   "metadata": {},
   "outputs": [],
   "source": []
  }
 ],
 "metadata": {
  "kernelspec": {
   "display_name": "Python 3",
   "language": "python",
   "name": "python3"
  },
  "language_info": {
   "codemirror_mode": {
    "name": "ipython",
    "version": 3
   },
   "file_extension": ".py",
   "mimetype": "text/x-python",
   "name": "python",
   "nbconvert_exporter": "python",
   "pygments_lexer": "ipython3",
   "version": "3.6.5"
  }
 },
 "nbformat": 4,
 "nbformat_minor": 2
}

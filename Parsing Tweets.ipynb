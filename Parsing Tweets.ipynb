{
 "cells": [
  {
   "cell_type": "code",
   "execution_count": 1,
   "metadata": {},
   "outputs": [],
   "source": [
    "import pandas as pd\n",
    "import numpy as np"
   ]
  },
  {
   "cell_type": "code",
   "execution_count": 2,
   "metadata": {},
   "outputs": [],
   "source": [
    "import re\n",
    "import os"
   ]
  },
  {
   "cell_type": "code",
   "execution_count": 3,
   "metadata": {},
   "outputs": [],
   "source": [
    "def parsing_tweets(file_name):\n",
    "    '''\n",
    "    input: archivo con los tweets brutos\n",
    "    output: archivo csv con los tweets limpios con 3 features:\n",
    "    - fecha\n",
    "    - texto limpio de @..., hashtags, urls y pics. Signo $ reemplazado por _\n",
    "    - url (si hay)\n",
    "    '''\n",
    "    \n",
    "    # archivo de lectura\n",
    "    dir_name   = 'data/original'\n",
    "    filename = os.path.join(dir_name, file_name)\n",
    "    \n",
    "    # regex\n",
    "    match_url = re.compile(r\"((https?|http):\\/\\/(www\\.)?[a-z0-9\\.:].*?(?=\\s))\", re.IGNORECASE)\n",
    "    match_pic = re.compile(r\"pic.twitter.com/[\\w].*\", re.IGNORECASE)\n",
    "    match_arrobas = re.compile(r\"(@\\w*)\", re.IGNORECASE)\n",
    "    match_hashtags = re.compile(r\"(#\\w*)\", re.IGNORECASE)\n",
    "    match_signs = re.compile(r'(&(#\\d*)+;)', re.IGNORECASE)  \n",
    "   \n",
    "    with open(filename,'r') as f:\n",
    "\n",
    "        # inicializo dataframe\n",
    "        tweets = pd.DataFrame()\n",
    "\n",
    "        # lectura del file linea por linea (en caso de que el archivo sea muy grande)\n",
    "        for line in f:\n",
    "\n",
    "            # split de lineas para extraer fecha (más rápido que otro regex ??)\n",
    "            l = line.split()\n",
    "\n",
    "            if len(l)>0:\n",
    "                # extraigo la url y '' si retorna None\n",
    "                url = getattr(re.search(match_url, line), 'groups', lambda:[u\"\"])()[0]\n",
    "                # uno los campos de texto\n",
    "                text = r' '.join(l[5:])\n",
    "                # reemplazo signo $ por _\n",
    "                text = text.replace('$', '_')\n",
    "                # aplico las regex\n",
    "                text = re.sub(match_url, '', text)\n",
    "                text = re.sub(match_pic, '', text)\n",
    "                text = re.sub(match_signs, '', text)\n",
    "                text = re.sub(match_arrobas, '', text)\n",
    "                text = re.sub(match_hashtags, '', text)\n",
    "\n",
    "                # creo diccionario para agregar a dataframe\n",
    "                d = {\n",
    "                    'date' : l[1],\n",
    "                    'text' : text,\n",
    "                    'url'  : url\n",
    "                }\n",
    "                tweets = tweets.append(d, ignore_index=True)\n",
    "    \n",
    "    # retorno el dataframe\n",
    "    return tweets"
   ]
  },
  {
   "cell_type": "code",
   "execution_count": 4,
   "metadata": {},
   "outputs": [],
   "source": [
    "tweets_train = parsing_tweets('nflx_twitter_train.txt')\n",
    "tweets_test  = parsing_tweets('nflx_twitter_test.txt')"
   ]
  },
  {
   "cell_type": "code",
   "execution_count": 5,
   "metadata": {},
   "outputs": [],
   "source": [
    "tweets_train.to_csv('data/tweets_train.csv')\n",
    "tweets_test.to_csv('data/tweets_test.csv')\n"
   ]
  }
 ],
 "metadata": {
  "kernelspec": {
   "display_name": "Python 3",
   "language": "python",
   "name": "python3"
  },
  "language_info": {
   "codemirror_mode": {
    "name": "ipython",
    "version": 3
   },
   "file_extension": ".py",
   "mimetype": "text/x-python",
   "name": "python",
   "nbconvert_exporter": "python",
   "pygments_lexer": "ipython3",
   "version": "3.6.5"
  }
 },
 "nbformat": 4,
 "nbformat_minor": 2
}

{
 "cells": [
  {
   "cell_type": "code",
   "execution_count": 25,
   "metadata": {},
   "outputs": [
    {
     "data": {
      "text/plain": [
       "<pandas.core.config.option_context at 0x1a1d7fef60>"
      ]
     },
     "execution_count": 25,
     "metadata": {},
     "output_type": "execute_result"
    }
   ],
   "source": [
    "from IPython.core.interactiveshell import InteractiveShell\n",
    "InteractiveShell.ast_node_interactivity = \"all\"\n",
    "import warnings\n",
    "warnings.filterwarnings('ignore')\n",
    "RS = sum(list(map(ord, 'Dale Boca')))\n",
    "\n",
    "import pandas as pd\n",
    "pd.option_context('display.max_rows', None, 'display.max_columns', None)\n",
    "pd.set_option('display.max_colwidth', -1);\n",
    "\n",
    "import numpy as np"
   ]
  },
  {
   "cell_type": "code",
   "execution_count": 26,
   "metadata": {},
   "outputs": [],
   "source": [
    "import nltk\n",
    "from textblob import TextBlob\n",
    "\n",
    "def polaridad(lim_pos=0.25, lim_neg=-0.25, train=True):\n",
    "    '''\n",
    "    input = archivo de tweets\n",
    "    output = dataframe con cantidad de tweets pos, neg y neutros agrupados por fecha\n",
    "    '''\n",
    "    \n",
    "    # armo el nombre del archivo a leer de los parametros\n",
    "    dir_name = 'data'    \n",
    "    file_name = 'tweets_train.csv' if train else 'tweets_test.csv'\n",
    "          \n",
    "    filename  = os.path.join(dir_name, file_name)\n",
    "    \n",
    "    # leo archivo y le cambio los nombres a las columnas\n",
    "    tweets = pd.read_csv(filename, index=0)\n",
    "    \n",
    "    # defino la polaridad usando libreria TextBlob\n",
    "    tweets['polarity'] = [TextBlob(str(x)).sentiment[0] for x in tweets['text']]\n",
    "    \n",
    "    # conteo de resultados en base a los límites predefinidos\n",
    "    tweets.loc[tweets.polarity >= lim_pos, 'pos'] = 1\n",
    "    tweets.loc[tweets.polarity <= lim_neg, 'neg'] = 1\n",
    "    tweets.loc[((tweets.polarity < lim_pos) & (tweets.polarity > lim_neg)), 'neu'] = 1\n",
    "    \n",
    "    # fillna con 0\n",
    "    tweets[['pos', 'neg', 'neu']] = tweets[['pos', 'neg', 'neu']].fillna(value=0)\n",
    "    \n",
    "    # selecciono las columnas para trabajar\n",
    "    tweets = tweets.loc[:, ['date', 'pos', 'neg', 'neu']]\n",
    "    \n",
    "    # agrupo tweets por fecha, sumarizando la cantidad de pos, neg y neutros\n",
    "    grouped = tweets.groupby('date').sum()\n",
    "    \n",
    "    # retorno df con resultados\n",
    "    return grouped\n",
    "    "
   ]
  },
  {
   "cell_type": "code",
   "execution_count": null,
   "metadata": {},
   "outputs": [],
   "source": []
  }
 ],
 "metadata": {
  "kernelspec": {
   "display_name": "Python 3",
   "language": "python",
   "name": "python3"
  },
  "language_info": {
   "codemirror_mode": {
    "name": "ipython",
    "version": 3
   },
   "file_extension": ".py",
   "mimetype": "text/x-python",
   "name": "python",
   "nbconvert_exporter": "python",
   "pygments_lexer": "ipython3",
   "version": "3.6.5"
  }
 },
 "nbformat": 4,
 "nbformat_minor": 2
}

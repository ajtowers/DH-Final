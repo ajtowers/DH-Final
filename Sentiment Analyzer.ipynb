{
 "cells": [
  {
   "cell_type": "code",
   "execution_count": 46,
   "metadata": {},
   "outputs": [
    {
     "data": {
      "text/plain": [
       "<pandas.core.config.option_context at 0x1a249e2cf8>"
      ]
     },
     "execution_count": 46,
     "metadata": {},
     "output_type": "execute_result"
    }
   ],
   "source": [
    "from IPython.core.interactiveshell import InteractiveShell\n",
    "InteractiveShell.ast_node_interactivity = \"all\"\n",
    "import warnings\n",
    "warnings.filterwarnings('ignore')\n",
    "RS = sum(list(map(ord, 'Dale Boca')))\n",
    "\n",
    "import pandas as pd\n",
    "pd.option_context('display.max_rows', None, 'display.max_columns', None)\n",
    "pd.set_option('display.max_colwidth', -1);\n",
    "\n",
    "import numpy as np"
   ]
  },
  {
   "cell_type": "code",
   "execution_count": 47,
   "metadata": {},
   "outputs": [],
   "source": [
    "import nltk\n",
    "from textblob import TextBlob"
   ]
  },
  {
   "cell_type": "code",
   "execution_count": 48,
   "metadata": {},
   "outputs": [],
   "source": [
    "tweets = pd.read_csv('data/tweets_train.csv', index_col=0)"
   ]
  },
  {
   "cell_type": "code",
   "execution_count": 50,
   "metadata": {},
   "outputs": [],
   "source": [
    "tweets['polarity'] = [TextBlob(str(x)).sentiment[0] for x in tweets['text']]"
   ]
  },
  {
   "cell_type": "code",
   "execution_count": 51,
   "metadata": {},
   "outputs": [
    {
     "data": {
      "text/html": [
       "<div>\n",
       "<style scoped>\n",
       "    .dataframe tbody tr th:only-of-type {\n",
       "        vertical-align: middle;\n",
       "    }\n",
       "\n",
       "    .dataframe tbody tr th {\n",
       "        vertical-align: top;\n",
       "    }\n",
       "\n",
       "    .dataframe thead th {\n",
       "        text-align: right;\n",
       "    }\n",
       "</style>\n",
       "<table border=\"1\" class=\"dataframe\">\n",
       "  <thead>\n",
       "    <tr style=\"text-align: right;\">\n",
       "      <th></th>\n",
       "      <th>date</th>\n",
       "      <th>text</th>\n",
       "      <th>url</th>\n",
       "      <th>polarity</th>\n",
       "    </tr>\n",
       "  </thead>\n",
       "  <tbody>\n",
       "    <tr>\n",
       "      <th>0</th>\n",
       "      <td>2018-07-31</td>\n",
       "      <td>AI Algorithm Live Forecast Netflix and Twitter Crash. Apple New Highs! _TWTR _FB _NFLX _AAPL    _QQQ    via</td>\n",
       "      <td>https://youtu.be/41VXY0CtGSA</td>\n",
       "      <td>0.153409</td>\n",
       "    </tr>\n",
       "    <tr>\n",
       "      <th>1</th>\n",
       "      <td>2018-07-31</td>\n",
       "      <td>AI Algorithm Live Forecast Netflix and Twitter Crash. Apple New Highs! _TWTR _AAPL _NFLX _FB</td>\n",
       "      <td>https://vimeo.com/282601398</td>\n",
       "      <td>0.153409</td>\n",
       "    </tr>\n",
       "    <tr>\n",
       "      <th>2</th>\n",
       "      <td>2018-07-31</td>\n",
       "      <td>Crushes It and It's All About Services, Plus Final Hints on   … via   _nflx _tsla _aapl _spy _ndx</td>\n",
       "      <td>https://mottcapitalmanagement.com/apple-crushes-it-and-its-all-about-services-plus-final-hints-on-tesla/</td>\n",
       "      <td>0.000000</td>\n",
       "    </tr>\n",
       "    <tr>\n",
       "      <th>3</th>\n",
       "      <td>2018-07-31</td>\n",
       "      <td>_NFLX After a Brutal Selloff, Netflix Is Looking Binge-Worthy Again</td>\n",
       "      <td>https://ift.tt/2ArdbWn</td>\n",
       "      <td>-0.875000</td>\n",
       "    </tr>\n",
       "    <tr>\n",
       "      <th>4</th>\n",
       "      <td>2018-07-31</td>\n",
       "      <td>_NFLX The Zacks Analyst Blog Highlights: Apple, Facebook, Twitter, Spotify and Netflix</td>\n",
       "      <td>https://ift.tt/2LPM6jP</td>\n",
       "      <td>0.000000</td>\n",
       "    </tr>\n",
       "  </tbody>\n",
       "</table>\n",
       "</div>"
      ],
      "text/plain": [
       "         date  \\\n",
       "0  2018-07-31   \n",
       "1  2018-07-31   \n",
       "2  2018-07-31   \n",
       "3  2018-07-31   \n",
       "4  2018-07-31   \n",
       "\n",
       "                                                                                                           text  \\\n",
       "0  AI Algorithm Live Forecast Netflix and Twitter Crash. Apple New Highs! _TWTR _FB _NFLX _AAPL    _QQQ    via    \n",
       "1  AI Algorithm Live Forecast Netflix and Twitter Crash. Apple New Highs! _TWTR _AAPL _NFLX _FB                   \n",
       "2   Crushes It and It's All About Services, Plus Final Hints on   … via   _nflx _tsla _aapl _spy _ndx             \n",
       "3  _NFLX After a Brutal Selloff, Netflix Is Looking Binge-Worthy Again                                            \n",
       "4  _NFLX The Zacks Analyst Blog Highlights: Apple, Facebook, Twitter, Spotify and Netflix                         \n",
       "\n",
       "                                                                                                        url  \\\n",
       "0  https://youtu.be/41VXY0CtGSA                                                                               \n",
       "1  https://vimeo.com/282601398                                                                                \n",
       "2  https://mottcapitalmanagement.com/apple-crushes-it-and-its-all-about-services-plus-final-hints-on-tesla/   \n",
       "3  https://ift.tt/2ArdbWn                                                                                     \n",
       "4  https://ift.tt/2LPM6jP                                                                                     \n",
       "\n",
       "   polarity  \n",
       "0  0.153409  \n",
       "1  0.153409  \n",
       "2  0.000000  \n",
       "3 -0.875000  \n",
       "4  0.000000  "
      ]
     },
     "execution_count": 51,
     "metadata": {},
     "output_type": "execute_result"
    }
   ],
   "source": [
    "tweets.head()"
   ]
  },
  {
   "cell_type": "code",
   "execution_count": 53,
   "metadata": {},
   "outputs": [],
   "source": [
    "lim_pos =  0.25\n",
    "lim_neg = -0.25"
   ]
  },
  {
   "cell_type": "code",
   "execution_count": 58,
   "metadata": {},
   "outputs": [],
   "source": [
    "tweets['sent'] = pd.cut(tweets.polarity, bins=[-1, lim_neg, lim_pos, 1]) "
   ]
  },
  {
   "cell_type": "code",
   "execution_count": 73,
   "metadata": {},
   "outputs": [
    {
     "data": {
      "text/plain": [
       "(-0.25, 0.25]    20441\n",
       "(0.25, 1.0]      4866 \n",
       "(-1.0, -0.25]    962  \n",
       "Name: sent, dtype: int64"
      ]
     },
     "execution_count": 73,
     "metadata": {},
     "output_type": "execute_result"
    }
   ],
   "source": [
    "tweets.sent.value_counts()"
   ]
  },
  {
   "cell_type": "code",
   "execution_count": 68,
   "metadata": {},
   "outputs": [
    {
     "data": {
      "text/plain": [
       "False"
      ]
     },
     "execution_count": 68,
     "metadata": {},
     "output_type": "execute_result"
    }
   ],
   "source": [
    "tweets.polarity.isnull().values.any()"
   ]
  },
  {
   "cell_type": "code",
   "execution_count": null,
   "metadata": {},
   "outputs": [],
   "source": []
  }
 ],
 "metadata": {
  "kernelspec": {
   "display_name": "Python 3",
   "language": "python",
   "name": "python3"
  },
  "language_info": {
   "codemirror_mode": {
    "name": "ipython",
    "version": 3
   },
   "file_extension": ".py",
   "mimetype": "text/x-python",
   "name": "python",
   "nbconvert_exporter": "python",
   "pygments_lexer": "ipython3",
   "version": "3.6.5"
  }
 },
 "nbformat": 4,
 "nbformat_minor": 2
}

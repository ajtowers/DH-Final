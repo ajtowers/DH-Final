{
 "cells": [
  {
   "cell_type": "code",
   "execution_count": 1,
   "metadata": {},
   "outputs": [],
   "source": [
    "from IPython.core.interactiveshell import InteractiveShell\n",
    "InteractiveShell.ast_node_interactivity = \"all\"\n",
    "import warnings\n",
    "warnings.filterwarnings('ignore')\n",
    "RS = sum(list(map(ord, 'Dale Boca')))\n",
    "\n",
    "import pandas as pd\n",
    "pd.option_context('display.max_rows', None, 'display.max_columns', None)\n",
    "pd.set_option('display.max_colwidth', -1)\n",
    "\n",
    "import numpy as np\n",
    "import os;"
   ]
  },
  {
   "cell_type": "markdown",
   "metadata": {},
   "source": [
    "### Lectura de datasets"
   ]
  },
  {
   "cell_type": "code",
   "execution_count": 2,
   "metadata": {},
   "outputs": [],
   "source": [
    "train = pd.read_csv('data/trainset.csv', index_col=0)\n",
    "test  = pd.read_csv('data/testset.csv', index_col=0)"
   ]
  },
  {
   "cell_type": "code",
   "execution_count": 3,
   "metadata": {},
   "outputs": [],
   "source": [
    "cols = ['pos', 'neg', 'neu']\n",
    "for col in cols:\n",
    "    train[col+'w'] = train[col].rolling(window=3).sum()\n",
    "    test[col+'w'] = test[col].rolling(window=3).sum()\n"
   ]
  },
  {
   "cell_type": "code",
   "execution_count": 4,
   "metadata": {},
   "outputs": [],
   "source": [
    "train.dropna(axis=0, inplace=True)\n",
    "test.dropna(axis=0, inplace=True);"
   ]
  },
  {
   "cell_type": "markdown",
   "metadata": {},
   "source": [
    "### Preparación de datasets"
   ]
  },
  {
   "cell_type": "code",
   "execution_count": 5,
   "metadata": {},
   "outputs": [],
   "source": [
    "cols = ['posw', 'negw', 'neuw']\n",
    "X = train[cols]\n",
    "y = train.exc_ret\n",
    "X_test = test[cols]\n",
    "y_test = test.exc_ret"
   ]
  },
  {
   "cell_type": "code",
   "execution_count": 6,
   "metadata": {},
   "outputs": [],
   "source": [
    "from sklearn.preprocessing import LabelEncoder\n",
    "le = LabelEncoder()\n",
    "y      = le.fit_transform(y)\n",
    "y_test = le.fit_transform(y_test)"
   ]
  },
  {
   "cell_type": "markdown",
   "metadata": {},
   "source": [
    "### RandomForest"
   ]
  },
  {
   "cell_type": "code",
   "execution_count": 7,
   "metadata": {},
   "outputs": [],
   "source": [
    "from sklearn.ensemble import RandomForestClassifier\n",
    "import scipy.stats as st\n",
    "rf = RandomForestClassifier(random_state=RS)\n",
    "params = {  \n",
    "    \"n_estimators\": st.randint(10,300),    # Number of boosted trees to fit.\n",
    "    \"max_depth\"   : st.randint(2, 30),     # Maximum tree depth for base learners.\n",
    "}"
   ]
  },
  {
   "cell_type": "code",
   "execution_count": 8,
   "metadata": {},
   "outputs": [],
   "source": [
    "from sklearn.model_selection import RandomizedSearchCV, KFold\n",
    "from sklearn.metrics import roc_auc_score\n",
    "kf   = KFold(n_splits=5, shuffle=True, random_state=RS) \n",
    "rgrid = RandomizedSearchCV(estimator=rf, param_distributions=params, cv=kf, scoring='roc_auc',\n",
    "                           n_iter=50, verbose=2, n_jobs=-1)"
   ]
  },
  {
   "cell_type": "code",
   "execution_count": 9,
   "metadata": {},
   "outputs": [
    {
     "name": "stdout",
     "output_type": "stream",
     "text": [
      "Fitting 5 folds for each of 50 candidates, totalling 250 fits\n"
     ]
    },
    {
     "name": "stderr",
     "output_type": "stream",
     "text": [
      "[Parallel(n_jobs=-1)]: Using backend LokyBackend with 8 concurrent workers.\n",
      "[Parallel(n_jobs=-1)]: Done  25 tasks      | elapsed:    3.6s\n",
      "[Parallel(n_jobs=-1)]: Done 146 tasks      | elapsed:   10.8s\n",
      "[Parallel(n_jobs=-1)]: Done 250 out of 250 | elapsed:   16.3s finished\n",
      "/anaconda3/envs/DataScience36/lib/python3.6/site-packages/sklearn/model_selection/_search.py:841: DeprecationWarning: The default of the `iid` parameter will change from True to False in version 0.22 and will be removed in 0.24. This will change numeric results when test-set sizes are unequal.\n",
      "  DeprecationWarning)\n"
     ]
    },
    {
     "data": {
      "text/plain": [
       "RandomizedSearchCV(cv=KFold(n_splits=5, random_state=779, shuffle=True),\n",
       "          error_score='raise-deprecating',\n",
       "          estimator=RandomForestClassifier(bootstrap=True, class_weight=None, criterion='gini',\n",
       "            max_depth=None, max_features='auto', max_leaf_nodes=None,\n",
       "            min_impurity_decrease=0.0, min_impurity_split=None,\n",
       "            min_samples_leaf=1, min_samples_split=2,\n",
       "            min_weight_fraction_leaf=0.0, n_estimators='warn', n_jobs=None,\n",
       "            oob_score=False, random_state=779, verbose=0, warm_start=False),\n",
       "          fit_params=None, iid='warn', n_iter=50, n_jobs=-1,\n",
       "          param_distributions={'n_estimators': <scipy.stats._distn_infrastructure.rv_frozen object at 0x1a21584390>, 'max_depth': <scipy.stats._distn_infrastructure.rv_frozen object at 0x1a2194ef98>},\n",
       "          pre_dispatch='2*n_jobs', random_state=None, refit=True,\n",
       "          return_train_score='warn', scoring='roc_auc', verbose=2)"
      ]
     },
     "execution_count": 9,
     "metadata": {},
     "output_type": "execute_result"
    }
   ],
   "source": [
    "rgrid.fit(X, y)"
   ]
  },
  {
   "cell_type": "code",
   "execution_count": 10,
   "metadata": {},
   "outputs": [
    {
     "data": {
      "text/plain": [
       "{'max_depth': 4, 'n_estimators': 202}"
      ]
     },
     "execution_count": 10,
     "metadata": {},
     "output_type": "execute_result"
    }
   ],
   "source": [
    "best_rf = rgrid.best_estimator_\n",
    "rgrid.best_params_"
   ]
  },
  {
   "cell_type": "code",
   "execution_count": 11,
   "metadata": {},
   "outputs": [],
   "source": [
    "p_pred = rgrid.predict_proba(X_test)"
   ]
  },
  {
   "cell_type": "code",
   "execution_count": 12,
   "metadata": {},
   "outputs": [],
   "source": [
    "rf_score = roc_auc_score(y_score=p_pred[:, 1], y_true=y_test)"
   ]
  },
  {
   "cell_type": "code",
   "execution_count": 13,
   "metadata": {},
   "outputs": [],
   "source": [
    "from scikitplot.metrics import plot_roc\n",
    "plot_roc(y_test, p_pred, plot_micro = False, plot_macro= False);"
   ]
  },
  {
   "cell_type": "markdown",
   "metadata": {},
   "source": [
    "### XGBoost"
   ]
  },
  {
   "cell_type": "code",
   "execution_count": 14,
   "metadata": {},
   "outputs": [],
   "source": [
    "from xgboost.sklearn import XGBClassifier\n",
    "xg = XGBClassifier()\n",
    "params = {  \n",
    "    \"n_estimators\": st.randint(100,500),    # Number of boosted trees to fit.\n",
    "    \"max_depth\": st.randint(2, 30),         # Maximum tree depth for base learners.\n",
    "    \"learning_rate\": st.uniform(0.01, 0.5), # Boosting learning rate (xgb’s “eta”)\n",
    "    \"colsample_bytree\": st.beta(10, 1),     # Subsample ratio of columns when constructing each tree.\n",
    "    \"subsample\": st.beta(10, 1),            # Subsample ratio of the training instance.\n",
    "    \"gamma\": st.uniform(0, 10),             # Minimum loss reduction required to make a further partition on a leaf node of the tree.\n",
    "    'reg_alpha': st.uniform(0.05,10),       # L1 regularization term on weights\n",
    "    \"min_child_weight\": st.uniform(1,20),   # Minimum sum of instance weight(hessian) needed in a child.\n",
    "}"
   ]
  },
  {
   "cell_type": "code",
   "execution_count": 15,
   "metadata": {},
   "outputs": [],
   "source": [
    "rgrid = RandomizedSearchCV(estimator=xg, param_distributions=params, cv=kf, scoring='roc_auc',\n",
    "                           n_iter=200, verbose=2, n_jobs=-1)"
   ]
  },
  {
   "cell_type": "code",
   "execution_count": 16,
   "metadata": {},
   "outputs": [
    {
     "name": "stdout",
     "output_type": "stream",
     "text": [
      "Fitting 5 folds for each of 200 candidates, totalling 1000 fits\n"
     ]
    },
    {
     "name": "stderr",
     "output_type": "stream",
     "text": [
      "[Parallel(n_jobs=-1)]: Using backend LokyBackend with 8 concurrent workers.\n",
      "[Parallel(n_jobs=-1)]: Done  88 tasks      | elapsed:    0.5s\n",
      "[Parallel(n_jobs=-1)]: Done 1000 out of 1000 | elapsed:    4.1s finished\n",
      "/anaconda3/envs/DataScience36/lib/python3.6/site-packages/sklearn/model_selection/_search.py:841: DeprecationWarning: The default of the `iid` parameter will change from True to False in version 0.22 and will be removed in 0.24. This will change numeric results when test-set sizes are unequal.\n",
      "  DeprecationWarning)\n"
     ]
    },
    {
     "data": {
      "text/plain": [
       "RandomizedSearchCV(cv=KFold(n_splits=5, random_state=779, shuffle=True),\n",
       "          error_score='raise-deprecating',\n",
       "          estimator=XGBClassifier(base_score=0.5, booster='gbtree', colsample_bylevel=1,\n",
       "       colsample_bytree=1, gamma=0, learning_rate=0.1, max_delta_step=0,\n",
       "       max_depth=3, min_child_weight=1, missing=None, n_estimators=100,\n",
       "       n_jobs=1, nthread=None, objective='binary:logistic', random_state=0,\n",
       "       reg_alpha=0, reg_lambda=1, scale_pos_weight=1, seed=None,\n",
       "       silent=True, subsample=1),\n",
       "          fit_params=None, iid='warn', n_iter=200, n_jobs=-1,\n",
       "          param_distributions={'n_estimators': <scipy.stats._distn_infrastructure.rv_frozen object at 0x1a251f1860>, 'max_depth': <scipy.stats._distn_infrastructure.rv_frozen object at 0x1a2522fe48>, 'learning_rate': <scipy.stats._distn_infrastructure.rv_frozen object at 0x1a2522ff60>, 'colsample_bytree': <sc...2523bcf8>, 'min_child_weight': <scipy.stats._distn_infrastructure.rv_frozen object at 0x1a2523bf60>},\n",
       "          pre_dispatch='2*n_jobs', random_state=None, refit=True,\n",
       "          return_train_score='warn', scoring='roc_auc', verbose=2)"
      ]
     },
     "execution_count": 16,
     "metadata": {},
     "output_type": "execute_result"
    }
   ],
   "source": [
    "rgrid.fit(X, y)"
   ]
  },
  {
   "cell_type": "code",
   "execution_count": 17,
   "metadata": {},
   "outputs": [
    {
     "data": {
      "text/plain": [
       "{'colsample_bytree': 0.8866043410614666,\n",
       " 'gamma': 0.47863923729261737,\n",
       " 'learning_rate': 0.16509655544629004,\n",
       " 'max_depth': 15,\n",
       " 'min_child_weight': 15.361113940382808,\n",
       " 'n_estimators': 380,\n",
       " 'reg_alpha': 1.4235692234200736,\n",
       " 'subsample': 0.911149594206872}"
      ]
     },
     "execution_count": 17,
     "metadata": {},
     "output_type": "execute_result"
    }
   ],
   "source": [
    "best_xg = rgrid.best_estimator_\n",
    "rgrid.best_params_"
   ]
  },
  {
   "cell_type": "code",
   "execution_count": 18,
   "metadata": {},
   "outputs": [],
   "source": [
    "p_pred = rgrid.predict_proba(X_test)"
   ]
  },
  {
   "cell_type": "code",
   "execution_count": 19,
   "metadata": {},
   "outputs": [],
   "source": [
    "xg_score = roc_auc_score(y_score=p_pred[:, 1], y_true=y_test)"
   ]
  },
  {
   "cell_type": "code",
   "execution_count": 20,
   "metadata": {},
   "outputs": [
    {
     "data": {
      "image/png": "[encoded data removed]",
      "text/plain": [
       "<Figure size 432x288 with 1 Axes>"
      ]
     },
     "metadata": {},
     "output_type": "display_data"
    }
   ],
   "source": [
    "plot_roc(y_test, p_pred, plot_micro = False, plot_macro= False);"
   ]
  },
  {
   "cell_type": "markdown",
   "metadata": {},
   "source": [
    "### LightGBM"
   ]
  },
  {
   "cell_type": "code",
   "execution_count": 21,
   "metadata": {},
   "outputs": [],
   "source": [
    "import lightgbm as lgb\n",
    "lg = lgb.LGBMClassifier()"
   ]
  },
  {
   "cell_type": "code",
   "execution_count": 22,
   "metadata": {},
   "outputs": [],
   "source": [
    "rgrid = RandomizedSearchCV(estimator=lg, param_distributions=params, cv=kf, scoring='roc_auc',\n",
    "                           n_iter=200, verbose=2, n_jobs=-1)"
   ]
  },
  {
   "cell_type": "code",
   "execution_count": 23,
   "metadata": {},
   "outputs": [
    {
     "name": "stdout",
     "output_type": "stream",
     "text": [
      "Fitting 5 folds for each of 200 candidates, totalling 1000 fits\n"
     ]
    },
    {
     "name": "stderr",
     "output_type": "stream",
     "text": [
      "[Parallel(n_jobs=-1)]: Using backend LokyBackend with 8 concurrent workers.\n",
      "[Parallel(n_jobs=-1)]: Done  88 tasks      | elapsed:    0.8s\n",
      "[Parallel(n_jobs=-1)]: Done 1000 out of 1000 | elapsed:    5.9s finished\n",
      "/anaconda3/envs/DataScience36/lib/python3.6/site-packages/sklearn/model_selection/_search.py:841: DeprecationWarning: The default of the `iid` parameter will change from True to False in version 0.22 and will be removed in 0.24. This will change numeric results when test-set sizes are unequal.\n",
      "  DeprecationWarning)\n"
     ]
    },
    {
     "data": {
      "text/plain": [
       "RandomizedSearchCV(cv=KFold(n_splits=5, random_state=779, shuffle=True),\n",
       "          error_score='raise-deprecating',\n",
       "          estimator=LGBMClassifier(boosting_type='gbdt', class_weight=None, colsample_bytree=1.0,\n",
       "        importance_type='split', learning_rate=0.1, max_depth=-1,\n",
       "        min_child_samples=20, min_child_weight=0.001, min_split_gain=0.0,\n",
       "        n_estimators=100, n_jobs=-1, num_leaves=31, objective=None,\n",
       "        random_state=None, reg_alpha=0.0, reg_lambda=0.0, silent=True,\n",
       "        subsample=1.0, subsample_for_bin=200000, subsample_freq=0),\n",
       "          fit_params=None, iid='warn', n_iter=200, n_jobs=-1,\n",
       "          param_distributions={'n_estimators': <scipy.stats._distn_infrastructure.rv_frozen object at 0x1a251f1860>, 'max_depth': <scipy.stats._distn_infrastructure.rv_frozen object at 0x1a2522fe48>, 'learning_rate': <scipy.stats._distn_infrastructure.rv_frozen object at 0x1a2522ff60>, 'colsample_bytree': <sc...2523bcf8>, 'min_child_weight': <scipy.stats._distn_infrastructure.rv_frozen object at 0x1a2523bf60>},\n",
       "          pre_dispatch='2*n_jobs', random_state=None, refit=True,\n",
       "          return_train_score='warn', scoring='roc_auc', verbose=2)"
      ]
     },
     "execution_count": 23,
     "metadata": {},
     "output_type": "execute_result"
    }
   ],
   "source": [
    "rgrid.fit(X, y)"
   ]
  },
  {
   "cell_type": "code",
   "execution_count": 24,
   "metadata": {},
   "outputs": [
    {
     "data": {
      "text/plain": [
       "{'colsample_bytree': 0.9234857198570703,\n",
       " 'gamma': 7.354637409904275,\n",
       " 'learning_rate': 0.3367665883990071,\n",
       " 'max_depth': 26,\n",
       " 'min_child_weight': 10.813370009496335,\n",
       " 'n_estimators': 172,\n",
       " 'reg_alpha': 0.2723914256629422,\n",
       " 'subsample': 0.9630019163952915}"
      ]
     },
     "execution_count": 24,
     "metadata": {},
     "output_type": "execute_result"
    }
   ],
   "source": [
    "best_lg = rgrid.best_estimator_\n",
    "rgrid.best_params_"
   ]
  },
  {
   "cell_type": "code",
   "execution_count": 25,
   "metadata": {},
   "outputs": [],
   "source": [
    "p_pred = rgrid.predict_proba(X_test)"
   ]
  },
  {
   "cell_type": "code",
   "execution_count": 26,
   "metadata": {},
   "outputs": [],
   "source": [
    "lg_score = roc_auc_score(y_score=p_pred[:, 1], y_true=y_test)"
   ]
  },
  {
   "cell_type": "code",
   "execution_count": 27,
   "metadata": {},
   "outputs": [
    {
     "data": {
      "image/png": "[encoded data removed]",
      "text/plain": [
       "<Figure size 432x288 with 1 Axes>"
      ]
     },
     "metadata": {},
     "output_type": "display_data"
    }
   ],
   "source": [
    "plot_roc(y_test, p_pred, plot_micro = False, plot_macro= False);"
   ]
  },
  {
   "cell_type": "markdown",
   "metadata": {},
   "source": [
    "### Logistic Regression"
   ]
  },
  {
   "cell_type": "code",
   "execution_count": 28,
   "metadata": {},
   "outputs": [],
   "source": [
    "from sklearn.linear_model import LogisticRegression\n",
    "log = LogisticRegression()\n",
    "params = {  \n",
    "    \"penalty\"     : ['l1', 'l2'],\n",
    "    \"C\"           : st.uniform(0.1, 10.),\n",
    "}"
   ]
  },
  {
   "cell_type": "code",
   "execution_count": 29,
   "metadata": {},
   "outputs": [],
   "source": [
    "rgrid = RandomizedSearchCV(estimator=log, param_distributions=params, cv=kf, scoring='roc_auc',\n",
    "                           n_iter=100, verbose=2, n_jobs=-1)"
   ]
  },
  {
   "cell_type": "code",
   "execution_count": 30,
   "metadata": {},
   "outputs": [
    {
     "name": "stdout",
     "output_type": "stream",
     "text": [
      "Fitting 5 folds for each of 100 candidates, totalling 500 fits\n"
     ]
    },
    {
     "name": "stderr",
     "output_type": "stream",
     "text": [
      "[Parallel(n_jobs=-1)]: Using backend LokyBackend with 8 concurrent workers.\n",
      "[Parallel(n_jobs=-1)]: Done  88 tasks      | elapsed:    0.3s\n",
      "[Parallel(n_jobs=-1)]: Done 500 out of 500 | elapsed:    0.9s finished\n",
      "/anaconda3/envs/DataScience36/lib/python3.6/site-packages/sklearn/model_selection/_search.py:841: DeprecationWarning: The default of the `iid` parameter will change from True to False in version 0.22 and will be removed in 0.24. This will change numeric results when test-set sizes are unequal.\n",
      "  DeprecationWarning)\n"
     ]
    },
    {
     "data": {
      "text/plain": [
       "RandomizedSearchCV(cv=KFold(n_splits=5, random_state=779, shuffle=True),\n",
       "          error_score='raise-deprecating',\n",
       "          estimator=LogisticRegression(C=1.0, class_weight=None, dual=False, fit_intercept=True,\n",
       "          intercept_scaling=1, max_iter=100, multi_class='warn',\n",
       "          n_jobs=None, penalty='l2', random_state=None, solver='warn',\n",
       "          tol=0.0001, verbose=0, warm_start=False),\n",
       "          fit_params=None, iid='warn', n_iter=100, n_jobs=-1,\n",
       "          param_distributions={'penalty': ['l1', 'l2'], 'C': <scipy.stats._distn_infrastructure.rv_frozen object at 0x1a25826ac8>},\n",
       "          pre_dispatch='2*n_jobs', random_state=None, refit=True,\n",
       "          return_train_score='warn', scoring='roc_auc', verbose=2)"
      ]
     },
     "execution_count": 30,
     "metadata": {},
     "output_type": "execute_result"
    }
   ],
   "source": [
    "rgrid.fit(X, y)"
   ]
  },
  {
   "cell_type": "code",
   "execution_count": 31,
   "metadata": {},
   "outputs": [
    {
     "data": {
      "text/plain": [
       "{'C': 0.2591393361742266, 'penalty': 'l1'}"
      ]
     },
     "execution_count": 31,
     "metadata": {},
     "output_type": "execute_result"
    }
   ],
   "source": [
    "best_log = rgrid.best_estimator_\n",
    "rgrid.best_params_"
   ]
  },
  {
   "cell_type": "code",
   "execution_count": 32,
   "metadata": {},
   "outputs": [],
   "source": [
    "p_pred = rgrid.predict_proba(X_test)"
   ]
  },
  {
   "cell_type": "code",
   "execution_count": 33,
   "metadata": {},
   "outputs": [],
   "source": [
    "log_score = roc_auc_score(y_score=p_pred[:, 1], y_true=y_test)"
   ]
  },
  {
   "cell_type": "code",
   "execution_count": 34,
   "metadata": {},
   "outputs": [
    {
     "data": {
      "image/png": "[encoded data removed]",
      "text/plain": [
       "<Figure size 432x288 with 1 Axes>"
      ]
     },
     "metadata": {},
     "output_type": "display_data"
    }
   ],
   "source": [
    "plot_roc(y_test, p_pred, plot_micro = False, plot_macro= False);"
   ]
  },
  {
   "cell_type": "markdown",
   "metadata": {},
   "source": [
    "### CatBoost"
   ]
  },
  {
   "cell_type": "code",
   "execution_count": 35,
   "metadata": {},
   "outputs": [],
   "source": [
    "from catboost import CatBoostClassifier\n",
    "cat = CatBoostClassifier()"
   ]
  },
  {
   "cell_type": "code",
   "execution_count": 36,
   "metadata": {},
   "outputs": [
    {
     "name": "stdout",
     "output_type": "stream",
     "text": [
      "0:\tlearn: 0.6920150\ttotal: 61.9ms\tremaining: 1m 1s\n",
      "1:\tlearn: 0.6909081\ttotal: 69.8ms\tremaining: 34.8s\n",
      "2:\tlearn: 0.6898291\ttotal: 76.4ms\tremaining: 25.4s\n",
      "3:\tlearn: 0.6883295\ttotal: 82.7ms\tremaining: 20.6s\n",
      "4:\tlearn: 0.6868191\ttotal: 88.7ms\tremaining: 17.7s\n",
      "5:\tlearn: 0.6853594\ttotal: 95.1ms\tremaining: 15.8s\n",
      "6:\tlearn: 0.6846507\ttotal: 102ms\tremaining: 14.4s\n",
      "7:\tlearn: 0.6837082\ttotal: 108ms\tremaining: 13.3s\n",
      "8:\tlearn: 0.6826287\ttotal: 114ms\tremaining: 12.5s\n",
      "9:\tlearn: 0.6814071\ttotal: 120ms\tremaining: 11.9s\n",
      "10:\tlearn: 0.6805720\ttotal: 125ms\tremaining: 11.3s\n",
      "11:\tlearn: 0.6799923\ttotal: 131ms\tremaining: 10.8s\n",
      "12:\tlearn: 0.6785391\ttotal: 138ms\tremaining: 10.5s\n",
      "13:\tlearn: 0.6772659\ttotal: 144ms\tremaining: 10.2s\n",
      "14:\tlearn: 0.6759557\ttotal: 150ms\tremaining: 9.88s\n",
      "15:\tlearn: 0.6751583\ttotal: 156ms\tremaining: 9.62s\n",
      "16:\tlearn: 0.6743693\ttotal: 162ms\tremaining: 9.38s\n",
      "17:\tlearn: 0.6736850\ttotal: 167ms\tremaining: 9.13s\n",
      "18:\tlearn: 0.6727311\ttotal: 174ms\tremaining: 8.96s\n",
      "19:\tlearn: 0.6710492\ttotal: 179ms\tremaining: 8.78s\n",
      "20:\tlearn: 0.6695350\ttotal: 185ms\tremaining: 8.63s\n",
      "21:\tlearn: 0.6687989\ttotal: 191ms\tremaining: 8.49s\n",
      "22:\tlearn: 0.6678024\ttotal: 197ms\tremaining: 8.35s\n",
      "23:\tlearn: 0.6672150\ttotal: 203ms\tremaining: 8.25s\n",
      "24:\tlearn: 0.6657096\ttotal: 209ms\tremaining: 8.13s\n",
      "25:\tlearn: 0.6642674\ttotal: 214ms\tremaining: 8.02s\n",
      "26:\tlearn: 0.6636782\ttotal: 220ms\tremaining: 7.92s\n",
      "27:\tlearn: 0.6626838\ttotal: 226ms\tremaining: 7.83s\n",
      "28:\tlearn: 0.6615660\ttotal: 232ms\tremaining: 7.75s\n",
      "29:\tlearn: 0.6607611\ttotal: 238ms\tremaining: 7.68s\n",
      "30:\tlearn: 0.6599156\ttotal: 243ms\tremaining: 7.6s\n",
      "31:\tlearn: 0.6589158\ttotal: 249ms\tremaining: 7.54s\n",
      "32:\tlearn: 0.6579710\ttotal: 255ms\tremaining: 7.47s\n",
      "33:\tlearn: 0.6572343\ttotal: 270ms\tremaining: 7.68s\n",
      "34:\tlearn: 0.6566524\ttotal: 284ms\tremaining: 7.84s\n",
      "35:\tlearn: 0.6551746\ttotal: 298ms\tremaining: 7.98s\n",
      "36:\tlearn: 0.6545691\ttotal: 312ms\tremaining: 8.12s\n",
      "37:\tlearn: 0.6538541\ttotal: 322ms\tremaining: 8.14s\n",
      "38:\tlearn: 0.6530682\ttotal: 328ms\tremaining: 8.07s\n",
      "39:\tlearn: 0.6525772\ttotal: 333ms\tremaining: 8s\n",
      "40:\tlearn: 0.6518247\ttotal: 340ms\tremaining: 7.94s\n",
      "41:\tlearn: 0.6506885\ttotal: 345ms\tremaining: 7.87s\n",
      "42:\tlearn: 0.6502781\ttotal: 352ms\tremaining: 7.83s\n",
      "43:\tlearn: 0.6495709\ttotal: 358ms\tremaining: 7.78s\n",
      "44:\tlearn: 0.6484116\ttotal: 364ms\tremaining: 7.71s\n",
      "45:\tlearn: 0.6475241\ttotal: 371ms\tremaining: 7.69s\n",
      "46:\tlearn: 0.6459851\ttotal: 377ms\tremaining: 7.64s\n",
      "47:\tlearn: 0.6453278\ttotal: 382ms\tremaining: 7.58s\n",
      "48:\tlearn: 0.6447801\ttotal: 387ms\tremaining: 7.51s\n",
      "49:\tlearn: 0.6446066\ttotal: 392ms\tremaining: 7.45s\n",
      "50:\tlearn: 0.6440696\ttotal: 398ms\tremaining: 7.4s\n",
      "51:\tlearn: 0.6432983\ttotal: 403ms\tremaining: 7.35s\n",
      "52:\tlearn: 0.6428876\ttotal: 409ms\tremaining: 7.3s\n",
      "53:\tlearn: 0.6421589\ttotal: 415ms\tremaining: 7.26s\n",
      "54:\tlearn: 0.6414947\ttotal: 420ms\tremaining: 7.21s\n",
      "55:\tlearn: 0.6410745\ttotal: 426ms\tremaining: 7.18s\n",
      "56:\tlearn: 0.6405331\ttotal: 432ms\tremaining: 7.14s\n",
      "57:\tlearn: 0.6398492\ttotal: 439ms\tremaining: 7.12s\n",
      "58:\tlearn: 0.6387595\ttotal: 445ms\tremaining: 7.09s\n",
      "59:\tlearn: 0.6378161\ttotal: 451ms\tremaining: 7.06s\n",
      "60:\tlearn: 0.6368302\ttotal: 456ms\tremaining: 7.02s\n",
      "61:\tlearn: 0.6364161\ttotal: 462ms\tremaining: 6.99s\n",
      "62:\tlearn: 0.6358233\ttotal: 471ms\tremaining: 7.01s\n",
      "63:\tlearn: 0.6353501\ttotal: 484ms\tremaining: 7.08s\n",
      "64:\tlearn: 0.6346782\ttotal: 497ms\tremaining: 7.14s\n",
      "65:\tlearn: 0.6342165\ttotal: 512ms\tremaining: 7.25s\n",
      "66:\tlearn: 0.6334768\ttotal: 518ms\tremaining: 7.21s\n",
      "67:\tlearn: 0.6327696\ttotal: 524ms\tremaining: 7.19s\n",
      "68:\tlearn: 0.6315931\ttotal: 533ms\tremaining: 7.19s\n",
      "69:\tlearn: 0.6309478\ttotal: 540ms\tremaining: 7.17s\n",
      "70:\tlearn: 0.6307618\ttotal: 545ms\tremaining: 7.14s\n",
      "71:\tlearn: 0.6301066\ttotal: 551ms\tremaining: 7.1s\n",
      "72:\tlearn: 0.6297466\ttotal: 557ms\tremaining: 7.07s\n",
      "73:\tlearn: 0.6292339\ttotal: 563ms\tremaining: 7.04s\n",
      "74:\tlearn: 0.6288372\ttotal: 569ms\tremaining: 7.01s\n",
      "75:\tlearn: 0.6279508\ttotal: 576ms\tremaining: 7s\n",
      "76:\tlearn: 0.6276044\ttotal: 582ms\tremaining: 6.97s\n",
      "77:\tlearn: 0.6271599\ttotal: 587ms\tremaining: 6.94s\n",
      "78:\tlearn: 0.6263953\ttotal: 593ms\tremaining: 6.92s\n",
      "79:\tlearn: 0.6260970\ttotal: 599ms\tremaining: 6.88s\n",
      "80:\tlearn: 0.6256198\ttotal: 604ms\tremaining: 6.85s\n",
      "81:\tlearn: 0.6248929\ttotal: 610ms\tremaining: 6.83s\n",
      "82:\tlearn: 0.6244841\ttotal: 616ms\tremaining: 6.8s\n",
      "83:\tlearn: 0.6240486\ttotal: 622ms\tremaining: 6.78s\n",
      "84:\tlearn: 0.6235052\ttotal: 628ms\tremaining: 6.76s\n",
      "85:\tlearn: 0.6228312\ttotal: 634ms\tremaining: 6.74s\n",
      "86:\tlearn: 0.6224230\ttotal: 640ms\tremaining: 6.71s\n",
      "87:\tlearn: 0.6212759\ttotal: 646ms\tremaining: 6.69s\n",
      "88:\tlearn: 0.6208707\ttotal: 651ms\tremaining: 6.66s\n",
      "89:\tlearn: 0.6205313\ttotal: 657ms\tremaining: 6.64s\n",
      "90:\tlearn: 0.6201446\ttotal: 662ms\tremaining: 6.62s\n",
      "91:\tlearn: 0.6199257\ttotal: 670ms\tremaining: 6.61s\n",
      "92:\tlearn: 0.6191254\ttotal: 683ms\tremaining: 6.66s\n",
      "93:\tlearn: 0.6185987\ttotal: 697ms\tremaining: 6.71s\n",
      "94:\tlearn: 0.6179566\ttotal: 710ms\tremaining: 6.77s\n",
      "95:\tlearn: 0.6174834\ttotal: 718ms\tremaining: 6.76s\n",
      "96:\tlearn: 0.6171582\ttotal: 727ms\tremaining: 6.77s\n",
      "97:\tlearn: 0.6166767\ttotal: 733ms\tremaining: 6.75s\n",
      "98:\tlearn: 0.6159191\ttotal: 740ms\tremaining: 6.73s\n",
      "99:\tlearn: 0.6153511\ttotal: 745ms\tremaining: 6.71s\n",
      "100:\tlearn: 0.6147201\ttotal: 751ms\tremaining: 6.68s\n",
      "101:\tlearn: 0.6140533\ttotal: 757ms\tremaining: 6.66s\n",
      "102:\tlearn: 0.6134378\ttotal: 763ms\tremaining: 6.64s\n",
      "103:\tlearn: 0.6129266\ttotal: 769ms\tremaining: 6.62s\n",
      "104:\tlearn: 0.6126546\ttotal: 774ms\tremaining: 6.6s\n",
      "105:\tlearn: 0.6117104\ttotal: 781ms\tremaining: 6.59s\n",
      "106:\tlearn: 0.6110176\ttotal: 788ms\tremaining: 6.57s\n",
      "107:\tlearn: 0.6106282\ttotal: 794ms\tremaining: 6.56s\n",
      "108:\tlearn: 0.6103011\ttotal: 800ms\tremaining: 6.54s\n",
      "109:\tlearn: 0.6100494\ttotal: 805ms\tremaining: 6.51s\n",
      "110:\tlearn: 0.6092695\ttotal: 812ms\tremaining: 6.5s\n",
      "111:\tlearn: 0.6090483\ttotal: 818ms\tremaining: 6.49s\n",
      "112:\tlearn: 0.6084829\ttotal: 825ms\tremaining: 6.47s\n",
      "113:\tlearn: 0.6080266\ttotal: 832ms\tremaining: 6.46s\n",
      "114:\tlearn: 0.6073172\ttotal: 838ms\tremaining: 6.45s\n",
      "115:\tlearn: 0.6068346\ttotal: 846ms\tremaining: 6.45s\n",
      "116:\tlearn: 0.6061384\ttotal: 855ms\tremaining: 6.45s\n",
      "117:\tlearn: 0.6058150\ttotal: 862ms\tremaining: 6.44s\n",
      "118:\tlearn: 0.6057939\ttotal: 872ms\tremaining: 6.46s\n",
      "119:\tlearn: 0.6054246\ttotal: 887ms\tremaining: 6.5s\n",
      "120:\tlearn: 0.6051576\ttotal: 901ms\tremaining: 6.54s\n",
      "121:\tlearn: 0.6050101\ttotal: 919ms\tremaining: 6.61s\n",
      "122:\tlearn: 0.6047660\ttotal: 933ms\tremaining: 6.65s\n",
      "123:\tlearn: 0.6043148\ttotal: 949ms\tremaining: 6.7s\n",
      "124:\tlearn: 0.6038374\ttotal: 966ms\tremaining: 6.76s\n",
      "125:\tlearn: 0.6028611\ttotal: 981ms\tremaining: 6.81s\n",
      "126:\tlearn: 0.6018643\ttotal: 994ms\tremaining: 6.83s\n",
      "127:\tlearn: 0.6014457\ttotal: 1s\tremaining: 6.82s\n",
      "128:\tlearn: 0.6010157\ttotal: 1.01s\tremaining: 6.79s\n",
      "129:\tlearn: 0.6004760\ttotal: 1.01s\tremaining: 6.79s\n",
      "130:\tlearn: 0.6000515\ttotal: 1.03s\tremaining: 6.83s\n",
      "131:\tlearn: 0.5996033\ttotal: 1.04s\tremaining: 6.83s\n",
      "132:\tlearn: 0.5991750\ttotal: 1.04s\tremaining: 6.82s\n",
      "133:\tlearn: 0.5987143\ttotal: 1.05s\tremaining: 6.8s\n",
      "134:\tlearn: 0.5983394\ttotal: 1.06s\tremaining: 6.77s\n",
      "135:\tlearn: 0.5979464\ttotal: 1.06s\tremaining: 6.75s\n",
      "136:\tlearn: 0.5976441\ttotal: 1.1s\tremaining: 6.92s\n",
      "137:\tlearn: 0.5965267\ttotal: 1.12s\tremaining: 7.03s\n",
      "138:\tlearn: 0.5959775\ttotal: 1.14s\tremaining: 7.04s\n",
      "139:\tlearn: 0.5957448\ttotal: 1.14s\tremaining: 7.03s\n",
      "140:\tlearn: 0.5952539\ttotal: 1.15s\tremaining: 7.01s\n",
      "141:\tlearn: 0.5948331\ttotal: 1.16s\tremaining: 6.99s\n",
      "142:\tlearn: 0.5946853\ttotal: 1.17s\tremaining: 7s\n",
      "143:\tlearn: 0.5942757\ttotal: 1.18s\tremaining: 7.02s\n",
      "144:\tlearn: 0.5935755\ttotal: 1.19s\tremaining: 7s\n",
      "145:\tlearn: 0.5933013\ttotal: 1.2s\tremaining: 7s\n",
      "146:\tlearn: 0.5926001\ttotal: 1.21s\tremaining: 7.02s\n",
      "147:\tlearn: 0.5923782\ttotal: 1.23s\tremaining: 7.06s\n",
      "148:\tlearn: 0.5916232\ttotal: 1.24s\tremaining: 7.08s\n",
      "149:\tlearn: 0.5911479\ttotal: 1.25s\tremaining: 7.07s\n",
      "150:\tlearn: 0.5907707\ttotal: 1.26s\tremaining: 7.1s\n",
      "151:\tlearn: 0.5903418\ttotal: 1.27s\tremaining: 7.1s\n",
      "152:\tlearn: 0.5900523\ttotal: 1.28s\tremaining: 7.07s\n",
      "153:\tlearn: 0.5896740\ttotal: 1.28s\tremaining: 7.05s\n",
      "154:\tlearn: 0.5894111\ttotal: 1.29s\tremaining: 7.02s\n",
      "155:\tlearn: 0.5890997\ttotal: 1.3s\tremaining: 7.05s\n",
      "156:\tlearn: 0.5886042\ttotal: 1.32s\tremaining: 7.07s\n",
      "157:\tlearn: 0.5884479\ttotal: 1.32s\tremaining: 7.06s\n",
      "158:\tlearn: 0.5882272\ttotal: 1.33s\tremaining: 7.05s\n",
      "159:\tlearn: 0.5879716\ttotal: 1.34s\tremaining: 7.03s\n",
      "160:\tlearn: 0.5877823\ttotal: 1.34s\tremaining: 7.01s\n",
      "161:\tlearn: 0.5871639\ttotal: 1.35s\tremaining: 6.99s\n",
      "162:\tlearn: 0.5869501\ttotal: 1.36s\tremaining: 6.96s\n",
      "163:\tlearn: 0.5867115\ttotal: 1.36s\tremaining: 6.95s\n",
      "164:\tlearn: 0.5864364\ttotal: 1.37s\tremaining: 6.93s\n",
      "165:\tlearn: 0.5857070\ttotal: 1.37s\tremaining: 6.91s\n",
      "166:\tlearn: 0.5853503\ttotal: 1.38s\tremaining: 6.89s\n",
      "167:\tlearn: 0.5847703\ttotal: 1.39s\tremaining: 6.87s\n",
      "168:\tlearn: 0.5842302\ttotal: 1.39s\tremaining: 6.85s\n",
      "169:\tlearn: 0.5839495\ttotal: 1.4s\tremaining: 6.83s\n",
      "170:\tlearn: 0.5836166\ttotal: 1.41s\tremaining: 6.81s\n",
      "171:\tlearn: 0.5831743\ttotal: 1.41s\tremaining: 6.79s\n",
      "172:\tlearn: 0.5827378\ttotal: 1.42s\tremaining: 6.77s\n",
      "173:\tlearn: 0.5822980\ttotal: 1.42s\tremaining: 6.75s\n",
      "174:\tlearn: 0.5817455\ttotal: 1.43s\tremaining: 6.73s\n",
      "175:\tlearn: 0.5815804\ttotal: 1.43s\tremaining: 6.71s\n",
      "176:\tlearn: 0.5812005\ttotal: 1.44s\tremaining: 6.7s\n",
      "177:\tlearn: 0.5808462\ttotal: 1.45s\tremaining: 6.68s\n",
      "178:\tlearn: 0.5806103\ttotal: 1.45s\tremaining: 6.67s\n",
      "179:\tlearn: 0.5802059\ttotal: 1.46s\tremaining: 6.65s\n",
      "180:\tlearn: 0.5799650\ttotal: 1.46s\tremaining: 6.63s\n",
      "181:\tlearn: 0.5794719\ttotal: 1.47s\tremaining: 6.61s\n",
      "182:\tlearn: 0.5791068\ttotal: 1.48s\tremaining: 6.59s\n"
     ]
    },
    {
     "name": "stdout",
     "output_type": "stream",
     "text": [
      "183:\tlearn: 0.5789475\ttotal: 1.48s\tremaining: 6.58s\n",
      "184:\tlearn: 0.5786696\ttotal: 1.5s\tremaining: 6.6s\n",
      "185:\tlearn: 0.5783903\ttotal: 1.51s\tremaining: 6.62s\n",
      "186:\tlearn: 0.5778626\ttotal: 1.52s\tremaining: 6.61s\n",
      "187:\tlearn: 0.5776620\ttotal: 1.53s\tremaining: 6.6s\n",
      "188:\tlearn: 0.5774645\ttotal: 1.53s\tremaining: 6.58s\n",
      "189:\tlearn: 0.5768482\ttotal: 1.54s\tremaining: 6.57s\n",
      "190:\tlearn: 0.5767582\ttotal: 1.54s\tremaining: 6.54s\n",
      "191:\tlearn: 0.5765126\ttotal: 1.55s\tremaining: 6.53s\n",
      "192:\tlearn: 0.5757862\ttotal: 1.56s\tremaining: 6.51s\n",
      "193:\tlearn: 0.5753877\ttotal: 1.56s\tremaining: 6.49s\n",
      "194:\tlearn: 0.5751352\ttotal: 1.57s\tremaining: 6.47s\n",
      "195:\tlearn: 0.5750238\ttotal: 1.57s\tremaining: 6.46s\n",
      "196:\tlearn: 0.5747420\ttotal: 1.58s\tremaining: 6.44s\n",
      "197:\tlearn: 0.5746839\ttotal: 1.58s\tremaining: 6.42s\n",
      "198:\tlearn: 0.5741415\ttotal: 1.59s\tremaining: 6.4s\n",
      "199:\tlearn: 0.5739317\ttotal: 1.6s\tremaining: 6.39s\n",
      "200:\tlearn: 0.5736764\ttotal: 1.6s\tremaining: 6.37s\n",
      "201:\tlearn: 0.5732406\ttotal: 1.61s\tremaining: 6.35s\n",
      "202:\tlearn: 0.5730162\ttotal: 1.61s\tremaining: 6.33s\n",
      "203:\tlearn: 0.5727463\ttotal: 1.62s\tremaining: 6.32s\n",
      "204:\tlearn: 0.5725001\ttotal: 1.63s\tremaining: 6.3s\n",
      "205:\tlearn: 0.5720144\ttotal: 1.63s\tremaining: 6.29s\n",
      "206:\tlearn: 0.5715409\ttotal: 1.64s\tremaining: 6.29s\n",
      "207:\tlearn: 0.5712456\ttotal: 1.65s\tremaining: 6.27s\n",
      "208:\tlearn: 0.5708281\ttotal: 1.65s\tremaining: 6.25s\n",
      "209:\tlearn: 0.5707134\ttotal: 1.66s\tremaining: 6.24s\n",
      "210:\tlearn: 0.5703718\ttotal: 1.66s\tremaining: 6.22s\n",
      "211:\tlearn: 0.5698350\ttotal: 1.67s\tremaining: 6.2s\n",
      "212:\tlearn: 0.5697109\ttotal: 1.67s\tremaining: 6.19s\n",
      "213:\tlearn: 0.5695728\ttotal: 1.69s\tremaining: 6.2s\n",
      "214:\tlearn: 0.5694553\ttotal: 1.7s\tremaining: 6.22s\n",
      "215:\tlearn: 0.5689247\ttotal: 1.71s\tremaining: 6.21s\n",
      "216:\tlearn: 0.5687970\ttotal: 1.72s\tremaining: 6.21s\n",
      "217:\tlearn: 0.5682764\ttotal: 1.73s\tremaining: 6.19s\n",
      "218:\tlearn: 0.5680101\ttotal: 1.73s\tremaining: 6.18s\n",
      "219:\tlearn: 0.5670498\ttotal: 1.74s\tremaining: 6.16s\n",
      "220:\tlearn: 0.5669888\ttotal: 1.74s\tremaining: 6.14s\n",
      "221:\tlearn: 0.5665949\ttotal: 1.75s\tremaining: 6.12s\n",
      "222:\tlearn: 0.5664199\ttotal: 1.75s\tremaining: 6.11s\n",
      "223:\tlearn: 0.5662160\ttotal: 1.76s\tremaining: 6.09s\n",
      "224:\tlearn: 0.5660078\ttotal: 1.76s\tremaining: 6.08s\n",
      "225:\tlearn: 0.5657501\ttotal: 1.77s\tremaining: 6.06s\n",
      "226:\tlearn: 0.5656122\ttotal: 1.77s\tremaining: 6.05s\n",
      "227:\tlearn: 0.5654269\ttotal: 1.78s\tremaining: 6.04s\n",
      "228:\tlearn: 0.5649018\ttotal: 1.79s\tremaining: 6.04s\n",
      "229:\tlearn: 0.5647890\ttotal: 1.8s\tremaining: 6.02s\n",
      "230:\tlearn: 0.5643519\ttotal: 1.8s\tremaining: 6.01s\n",
      "231:\tlearn: 0.5642188\ttotal: 1.81s\tremaining: 5.99s\n",
      "232:\tlearn: 0.5641890\ttotal: 1.82s\tremaining: 5.98s\n",
      "233:\tlearn: 0.5639707\ttotal: 1.82s\tremaining: 5.96s\n",
      "234:\tlearn: 0.5637307\ttotal: 1.83s\tremaining: 5.95s\n",
      "235:\tlearn: 0.5632915\ttotal: 1.83s\tremaining: 5.94s\n",
      "236:\tlearn: 0.5631173\ttotal: 1.84s\tremaining: 5.92s\n",
      "237:\tlearn: 0.5628023\ttotal: 1.84s\tremaining: 5.91s\n",
      "238:\tlearn: 0.5623607\ttotal: 1.85s\tremaining: 5.89s\n",
      "239:\tlearn: 0.5619544\ttotal: 1.86s\tremaining: 5.88s\n",
      "240:\tlearn: 0.5618989\ttotal: 1.86s\tremaining: 5.87s\n",
      "241:\tlearn: 0.5616766\ttotal: 1.87s\tremaining: 5.85s\n",
      "242:\tlearn: 0.5615428\ttotal: 1.87s\tremaining: 5.84s\n",
      "243:\tlearn: 0.5609652\ttotal: 1.88s\tremaining: 5.82s\n",
      "244:\tlearn: 0.5603245\ttotal: 1.89s\tremaining: 5.83s\n",
      "245:\tlearn: 0.5601381\ttotal: 1.91s\tremaining: 5.84s\n",
      "246:\tlearn: 0.5597654\ttotal: 1.91s\tremaining: 5.83s\n",
      "247:\tlearn: 0.5594622\ttotal: 1.92s\tremaining: 5.82s\n",
      "248:\tlearn: 0.5592227\ttotal: 1.93s\tremaining: 5.81s\n",
      "249:\tlearn: 0.5591238\ttotal: 1.93s\tremaining: 5.8s\n",
      "250:\tlearn: 0.5587190\ttotal: 1.94s\tremaining: 5.78s\n",
      "251:\tlearn: 0.5585086\ttotal: 1.94s\tremaining: 5.77s\n",
      "252:\tlearn: 0.5584349\ttotal: 1.95s\tremaining: 5.75s\n",
      "253:\tlearn: 0.5581994\ttotal: 1.96s\tremaining: 5.74s\n",
      "254:\tlearn: 0.5579979\ttotal: 1.96s\tremaining: 5.73s\n",
      "255:\tlearn: 0.5576224\ttotal: 1.97s\tremaining: 5.71s\n",
      "256:\tlearn: 0.5573213\ttotal: 1.97s\tremaining: 5.7s\n",
      "257:\tlearn: 0.5565989\ttotal: 1.98s\tremaining: 5.69s\n",
      "258:\tlearn: 0.5564147\ttotal: 1.98s\tremaining: 5.67s\n",
      "259:\tlearn: 0.5562627\ttotal: 1.99s\tremaining: 5.66s\n",
      "260:\tlearn: 0.5559655\ttotal: 2s\tremaining: 5.65s\n",
      "261:\tlearn: 0.5557564\ttotal: 2s\tremaining: 5.64s\n",
      "262:\tlearn: 0.5556806\ttotal: 2.01s\tremaining: 5.62s\n",
      "263:\tlearn: 0.5551060\ttotal: 2.01s\tremaining: 5.61s\n",
      "264:\tlearn: 0.5545473\ttotal: 2.02s\tremaining: 5.6s\n",
      "265:\tlearn: 0.5544233\ttotal: 2.02s\tremaining: 5.59s\n",
      "266:\tlearn: 0.5540507\ttotal: 2.03s\tremaining: 5.57s\n",
      "267:\tlearn: 0.5539373\ttotal: 2.04s\tremaining: 5.56s\n",
      "268:\tlearn: 0.5532525\ttotal: 2.04s\tremaining: 5.55s\n",
      "269:\tlearn: 0.5530407\ttotal: 2.05s\tremaining: 5.54s\n",
      "270:\tlearn: 0.5528400\ttotal: 2.05s\tremaining: 5.52s\n",
      "271:\tlearn: 0.5526674\ttotal: 2.06s\tremaining: 5.51s\n",
      "272:\tlearn: 0.5525922\ttotal: 2.06s\tremaining: 5.49s\n",
      "273:\tlearn: 0.5522851\ttotal: 2.07s\tremaining: 5.48s\n",
      "274:\tlearn: 0.5518528\ttotal: 2.07s\tremaining: 5.47s\n",
      "275:\tlearn: 0.5516159\ttotal: 2.08s\tremaining: 5.46s\n",
      "276:\tlearn: 0.5513374\ttotal: 2.08s\tremaining: 5.44s\n",
      "277:\tlearn: 0.5507806\ttotal: 2.1s\tremaining: 5.45s\n",
      "278:\tlearn: 0.5506158\ttotal: 2.12s\tremaining: 5.47s\n",
      "279:\tlearn: 0.5501749\ttotal: 2.13s\tremaining: 5.48s\n",
      "280:\tlearn: 0.5497340\ttotal: 2.14s\tremaining: 5.47s\n",
      "281:\tlearn: 0.5495742\ttotal: 2.15s\tremaining: 5.46s\n",
      "282:\tlearn: 0.5495153\ttotal: 2.15s\tremaining: 5.45s\n",
      "283:\tlearn: 0.5492091\ttotal: 2.16s\tremaining: 5.44s\n",
      "284:\tlearn: 0.5490085\ttotal: 2.16s\tremaining: 5.43s\n",
      "285:\tlearn: 0.5484700\ttotal: 2.17s\tremaining: 5.42s\n",
      "286:\tlearn: 0.5482476\ttotal: 2.17s\tremaining: 5.4s\n",
      "287:\tlearn: 0.5480576\ttotal: 2.18s\tremaining: 5.39s\n",
      "288:\tlearn: 0.5478686\ttotal: 2.19s\tremaining: 5.38s\n",
      "289:\tlearn: 0.5476262\ttotal: 2.19s\tremaining: 5.37s\n",
      "290:\tlearn: 0.5471825\ttotal: 2.2s\tremaining: 5.35s\n",
      "291:\tlearn: 0.5467384\ttotal: 2.2s\tremaining: 5.34s\n",
      "292:\tlearn: 0.5466051\ttotal: 2.21s\tremaining: 5.33s\n",
      "293:\tlearn: 0.5454897\ttotal: 2.21s\tremaining: 5.32s\n",
      "294:\tlearn: 0.5450273\ttotal: 2.22s\tremaining: 5.31s\n",
      "295:\tlearn: 0.5447878\ttotal: 2.23s\tremaining: 5.3s\n",
      "296:\tlearn: 0.5441277\ttotal: 2.23s\tremaining: 5.28s\n",
      "297:\tlearn: 0.5440291\ttotal: 2.24s\tremaining: 5.27s\n",
      "298:\tlearn: 0.5438313\ttotal: 2.24s\tremaining: 5.26s\n",
      "299:\tlearn: 0.5431661\ttotal: 2.25s\tremaining: 5.25s\n",
      "300:\tlearn: 0.5430590\ttotal: 2.25s\tremaining: 5.24s\n",
      "301:\tlearn: 0.5425325\ttotal: 2.26s\tremaining: 5.22s\n",
      "302:\tlearn: 0.5424070\ttotal: 2.27s\tremaining: 5.21s\n",
      "303:\tlearn: 0.5423949\ttotal: 2.27s\tremaining: 5.2s\n",
      "304:\tlearn: 0.5420618\ttotal: 2.27s\tremaining: 5.19s\n",
      "305:\tlearn: 0.5414758\ttotal: 2.29s\tremaining: 5.19s\n",
      "306:\tlearn: 0.5413066\ttotal: 2.3s\tremaining: 5.2s\n",
      "307:\tlearn: 0.5406628\ttotal: 2.31s\tremaining: 5.19s\n",
      "308:\tlearn: 0.5402994\ttotal: 2.31s\tremaining: 5.18s\n",
      "309:\tlearn: 0.5400389\ttotal: 2.32s\tremaining: 5.17s\n",
      "310:\tlearn: 0.5396788\ttotal: 2.33s\tremaining: 5.16s\n",
      "311:\tlearn: 0.5392611\ttotal: 2.33s\tremaining: 5.15s\n",
      "312:\tlearn: 0.5386678\ttotal: 2.34s\tremaining: 5.14s\n",
      "313:\tlearn: 0.5385320\ttotal: 2.35s\tremaining: 5.13s\n",
      "314:\tlearn: 0.5382521\ttotal: 2.35s\tremaining: 5.12s\n",
      "315:\tlearn: 0.5380449\ttotal: 2.36s\tremaining: 5.11s\n",
      "316:\tlearn: 0.5378705\ttotal: 2.37s\tremaining: 5.1s\n",
      "317:\tlearn: 0.5378634\ttotal: 2.37s\tremaining: 5.08s\n",
      "318:\tlearn: 0.5376961\ttotal: 2.38s\tremaining: 5.07s\n",
      "319:\tlearn: 0.5375649\ttotal: 2.38s\tremaining: 5.06s\n",
      "320:\tlearn: 0.5373539\ttotal: 2.39s\tremaining: 5.05s\n",
      "321:\tlearn: 0.5370617\ttotal: 2.39s\tremaining: 5.04s\n",
      "322:\tlearn: 0.5366685\ttotal: 2.4s\tremaining: 5.03s\n",
      "323:\tlearn: 0.5365641\ttotal: 2.4s\tremaining: 5.02s\n",
      "324:\tlearn: 0.5363282\ttotal: 2.41s\tremaining: 5.01s\n",
      "325:\tlearn: 0.5359672\ttotal: 2.42s\tremaining: 5s\n",
      "326:\tlearn: 0.5359087\ttotal: 2.42s\tremaining: 4.98s\n",
      "327:\tlearn: 0.5356569\ttotal: 2.43s\tremaining: 4.97s\n",
      "328:\tlearn: 0.5355853\ttotal: 2.43s\tremaining: 4.96s\n",
      "329:\tlearn: 0.5353483\ttotal: 2.44s\tremaining: 4.95s\n",
      "330:\tlearn: 0.5349686\ttotal: 2.44s\tremaining: 4.94s\n",
      "331:\tlearn: 0.5348675\ttotal: 2.45s\tremaining: 4.93s\n",
      "332:\tlearn: 0.5345761\ttotal: 2.46s\tremaining: 4.93s\n",
      "333:\tlearn: 0.5345617\ttotal: 2.48s\tremaining: 4.94s\n",
      "334:\tlearn: 0.5344756\ttotal: 2.49s\tremaining: 4.95s\n",
      "335:\tlearn: 0.5343099\ttotal: 2.51s\tremaining: 4.95s\n",
      "336:\tlearn: 0.5342709\ttotal: 2.52s\tremaining: 4.95s\n",
      "337:\tlearn: 0.5341211\ttotal: 2.52s\tremaining: 4.94s\n",
      "338:\tlearn: 0.5338375\ttotal: 2.53s\tremaining: 4.93s\n",
      "339:\tlearn: 0.5336296\ttotal: 2.53s\tremaining: 4.92s\n",
      "340:\tlearn: 0.5333356\ttotal: 2.54s\tremaining: 4.91s\n",
      "341:\tlearn: 0.5331335\ttotal: 2.54s\tremaining: 4.89s\n",
      "342:\tlearn: 0.5327201\ttotal: 2.55s\tremaining: 4.88s\n",
      "343:\tlearn: 0.5325213\ttotal: 2.55s\tremaining: 4.87s\n",
      "344:\tlearn: 0.5320117\ttotal: 2.56s\tremaining: 4.86s\n",
      "345:\tlearn: 0.5318319\ttotal: 2.56s\tremaining: 4.85s\n",
      "346:\tlearn: 0.5316638\ttotal: 2.57s\tremaining: 4.84s\n",
      "347:\tlearn: 0.5315162\ttotal: 2.58s\tremaining: 4.83s\n",
      "348:\tlearn: 0.5312655\ttotal: 2.58s\tremaining: 4.82s\n",
      "349:\tlearn: 0.5312342\ttotal: 2.59s\tremaining: 4.8s\n",
      "350:\tlearn: 0.5311263\ttotal: 2.59s\tremaining: 4.79s\n",
      "351:\tlearn: 0.5308971\ttotal: 2.6s\tremaining: 4.78s\n",
      "352:\tlearn: 0.5304292\ttotal: 2.6s\tremaining: 4.77s\n",
      "353:\tlearn: 0.5302715\ttotal: 2.61s\tremaining: 4.76s\n",
      "354:\tlearn: 0.5299981\ttotal: 2.62s\tremaining: 4.75s\n",
      "355:\tlearn: 0.5295584\ttotal: 2.62s\tremaining: 4.74s\n",
      "356:\tlearn: 0.5293019\ttotal: 2.63s\tremaining: 4.73s\n",
      "357:\tlearn: 0.5290304\ttotal: 2.63s\tremaining: 4.72s\n",
      "358:\tlearn: 0.5289767\ttotal: 2.64s\tremaining: 4.71s\n",
      "359:\tlearn: 0.5286523\ttotal: 2.64s\tremaining: 4.7s\n",
      "360:\tlearn: 0.5285436\ttotal: 2.65s\tremaining: 4.69s\n",
      "361:\tlearn: 0.5284363\ttotal: 2.65s\tremaining: 4.68s\n",
      "362:\tlearn: 0.5283684\ttotal: 2.66s\tremaining: 4.67s\n",
      "363:\tlearn: 0.5282101\ttotal: 2.67s\tremaining: 4.66s\n",
      "364:\tlearn: 0.5281259\ttotal: 2.67s\tremaining: 4.65s\n",
      "365:\tlearn: 0.5280912\ttotal: 2.68s\tremaining: 4.64s\n"
     ]
    },
    {
     "name": "stdout",
     "output_type": "stream",
     "text": [
      "366:\tlearn: 0.5279383\ttotal: 2.68s\tremaining: 4.63s\n",
      "367:\tlearn: 0.5277583\ttotal: 2.7s\tremaining: 4.63s\n",
      "368:\tlearn: 0.5277094\ttotal: 2.71s\tremaining: 4.63s\n",
      "369:\tlearn: 0.5275711\ttotal: 2.72s\tremaining: 4.63s\n",
      "370:\tlearn: 0.5272798\ttotal: 2.72s\tremaining: 4.62s\n",
      "371:\tlearn: 0.5271115\ttotal: 2.73s\tremaining: 4.62s\n",
      "372:\tlearn: 0.5269261\ttotal: 2.75s\tremaining: 4.61s\n",
      "373:\tlearn: 0.5266330\ttotal: 2.75s\tremaining: 4.6s\n",
      "374:\tlearn: 0.5264524\ttotal: 2.76s\tremaining: 4.59s\n",
      "375:\tlearn: 0.5263769\ttotal: 2.76s\tremaining: 4.58s\n",
      "376:\tlearn: 0.5262272\ttotal: 2.77s\tremaining: 4.57s\n",
      "377:\tlearn: 0.5259035\ttotal: 2.77s\tremaining: 4.56s\n",
      "378:\tlearn: 0.5258935\ttotal: 2.78s\tremaining: 4.55s\n",
      "379:\tlearn: 0.5255550\ttotal: 2.78s\tremaining: 4.54s\n",
      "380:\tlearn: 0.5254521\ttotal: 2.79s\tremaining: 4.53s\n",
      "381:\tlearn: 0.5253171\ttotal: 2.8s\tremaining: 4.52s\n",
      "382:\tlearn: 0.5250182\ttotal: 2.8s\tremaining: 4.51s\n",
      "383:\tlearn: 0.5249289\ttotal: 2.81s\tremaining: 4.5s\n",
      "384:\tlearn: 0.5245649\ttotal: 2.81s\tremaining: 4.49s\n",
      "385:\tlearn: 0.5244474\ttotal: 2.82s\tremaining: 4.48s\n",
      "386:\tlearn: 0.5241080\ttotal: 2.82s\tremaining: 4.47s\n",
      "387:\tlearn: 0.5239800\ttotal: 2.83s\tremaining: 4.46s\n",
      "388:\tlearn: 0.5239312\ttotal: 2.84s\tremaining: 4.46s\n",
      "389:\tlearn: 0.5236372\ttotal: 2.84s\tremaining: 4.44s\n",
      "390:\tlearn: 0.5236212\ttotal: 2.85s\tremaining: 4.43s\n",
      "391:\tlearn: 0.5235545\ttotal: 2.85s\tremaining: 4.42s\n",
      "392:\tlearn: 0.5233630\ttotal: 2.86s\tremaining: 4.41s\n",
      "393:\tlearn: 0.5232944\ttotal: 2.86s\tremaining: 4.4s\n",
      "394:\tlearn: 0.5232708\ttotal: 2.87s\tremaining: 4.39s\n",
      "395:\tlearn: 0.5230329\ttotal: 2.88s\tremaining: 4.39s\n",
      "396:\tlearn: 0.5226613\ttotal: 2.89s\tremaining: 4.39s\n",
      "397:\tlearn: 0.5224776\ttotal: 2.9s\tremaining: 4.39s\n",
      "398:\tlearn: 0.5222099\ttotal: 2.91s\tremaining: 4.39s\n",
      "399:\tlearn: 0.5221379\ttotal: 2.92s\tremaining: 4.38s\n",
      "400:\tlearn: 0.5219575\ttotal: 2.93s\tremaining: 4.37s\n",
      "401:\tlearn: 0.5218149\ttotal: 2.93s\tremaining: 4.36s\n",
      "402:\tlearn: 0.5215363\ttotal: 2.94s\tremaining: 4.35s\n",
      "403:\tlearn: 0.5213508\ttotal: 2.94s\tremaining: 4.34s\n",
      "404:\tlearn: 0.5210010\ttotal: 2.95s\tremaining: 4.33s\n",
      "405:\tlearn: 0.5208065\ttotal: 2.96s\tremaining: 4.33s\n",
      "406:\tlearn: 0.5206524\ttotal: 2.96s\tremaining: 4.32s\n",
      "407:\tlearn: 0.5204043\ttotal: 2.97s\tremaining: 4.31s\n",
      "408:\tlearn: 0.5201371\ttotal: 2.97s\tremaining: 4.3s\n",
      "409:\tlearn: 0.5198469\ttotal: 2.98s\tremaining: 4.29s\n",
      "410:\tlearn: 0.5196317\ttotal: 2.98s\tremaining: 4.28s\n",
      "411:\tlearn: 0.5196045\ttotal: 2.99s\tremaining: 4.27s\n",
      "412:\tlearn: 0.5194144\ttotal: 2.99s\tremaining: 4.26s\n",
      "413:\tlearn: 0.5192417\ttotal: 3s\tremaining: 4.25s\n",
      "414:\tlearn: 0.5191270\ttotal: 3.01s\tremaining: 4.24s\n",
      "415:\tlearn: 0.5188917\ttotal: 3.01s\tremaining: 4.23s\n",
      "416:\tlearn: 0.5187563\ttotal: 3.02s\tremaining: 4.22s\n",
      "417:\tlearn: 0.5186795\ttotal: 3.02s\tremaining: 4.21s\n",
      "418:\tlearn: 0.5186291\ttotal: 3.03s\tremaining: 4.2s\n",
      "419:\tlearn: 0.5183708\ttotal: 3.03s\tremaining: 4.19s\n",
      "420:\tlearn: 0.5182811\ttotal: 3.04s\tremaining: 4.18s\n",
      "421:\tlearn: 0.5179220\ttotal: 3.05s\tremaining: 4.17s\n",
      "422:\tlearn: 0.5178407\ttotal: 3.05s\tremaining: 4.16s\n",
      "423:\tlearn: 0.5177544\ttotal: 3.06s\tremaining: 4.15s\n",
      "424:\tlearn: 0.5177167\ttotal: 3.06s\tremaining: 4.14s\n",
      "425:\tlearn: 0.5175850\ttotal: 3.07s\tremaining: 4.13s\n",
      "426:\tlearn: 0.5174259\ttotal: 3.08s\tremaining: 4.13s\n",
      "427:\tlearn: 0.5170337\ttotal: 3.09s\tremaining: 4.13s\n",
      "428:\tlearn: 0.5168837\ttotal: 3.1s\tremaining: 4.13s\n",
      "429:\tlearn: 0.5167856\ttotal: 3.11s\tremaining: 4.12s\n",
      "430:\tlearn: 0.5165563\ttotal: 3.12s\tremaining: 4.11s\n",
      "431:\tlearn: 0.5161603\ttotal: 3.12s\tremaining: 4.11s\n",
      "432:\tlearn: 0.5161243\ttotal: 3.13s\tremaining: 4.1s\n",
      "433:\tlearn: 0.5159825\ttotal: 3.13s\tremaining: 4.09s\n",
      "434:\tlearn: 0.5159514\ttotal: 3.14s\tremaining: 4.08s\n",
      "435:\tlearn: 0.5155688\ttotal: 3.15s\tremaining: 4.07s\n",
      "436:\tlearn: 0.5153728\ttotal: 3.15s\tremaining: 4.06s\n",
      "437:\tlearn: 0.5151357\ttotal: 3.16s\tremaining: 4.05s\n",
      "438:\tlearn: 0.5148740\ttotal: 3.16s\tremaining: 4.04s\n",
      "439:\tlearn: 0.5147118\ttotal: 3.17s\tremaining: 4.04s\n",
      "440:\tlearn: 0.5146324\ttotal: 3.18s\tremaining: 4.03s\n",
      "441:\tlearn: 0.5143404\ttotal: 3.18s\tremaining: 4.02s\n",
      "442:\tlearn: 0.5141806\ttotal: 3.19s\tremaining: 4.01s\n",
      "443:\tlearn: 0.5139026\ttotal: 3.19s\tremaining: 4s\n",
      "444:\tlearn: 0.5138260\ttotal: 3.2s\tremaining: 3.99s\n",
      "445:\tlearn: 0.5137532\ttotal: 3.21s\tremaining: 3.98s\n",
      "446:\tlearn: 0.5133067\ttotal: 3.21s\tremaining: 3.97s\n",
      "447:\tlearn: 0.5132417\ttotal: 3.22s\tremaining: 3.96s\n",
      "448:\tlearn: 0.5130512\ttotal: 3.22s\tremaining: 3.95s\n",
      "449:\tlearn: 0.5126922\ttotal: 3.23s\tremaining: 3.94s\n",
      "450:\tlearn: 0.5123984\ttotal: 3.23s\tremaining: 3.94s\n",
      "451:\tlearn: 0.5122301\ttotal: 3.24s\tremaining: 3.93s\n",
      "452:\tlearn: 0.5121902\ttotal: 3.25s\tremaining: 3.92s\n",
      "453:\tlearn: 0.5119730\ttotal: 3.25s\tremaining: 3.91s\n",
      "454:\tlearn: 0.5118744\ttotal: 3.26s\tremaining: 3.9s\n",
      "455:\tlearn: 0.5116711\ttotal: 3.26s\tremaining: 3.89s\n",
      "456:\tlearn: 0.5114579\ttotal: 3.27s\tremaining: 3.89s\n",
      "457:\tlearn: 0.5111226\ttotal: 3.29s\tremaining: 3.89s\n",
      "458:\tlearn: 0.5106585\ttotal: 3.3s\tremaining: 3.89s\n",
      "459:\tlearn: 0.5105188\ttotal: 3.3s\tremaining: 3.88s\n",
      "460:\tlearn: 0.5103965\ttotal: 3.32s\tremaining: 3.88s\n",
      "461:\tlearn: 0.5102839\ttotal: 3.33s\tremaining: 3.88s\n",
      "462:\tlearn: 0.5102736\ttotal: 3.33s\tremaining: 3.87s\n",
      "463:\tlearn: 0.5101986\ttotal: 3.34s\tremaining: 3.86s\n",
      "464:\tlearn: 0.5097309\ttotal: 3.35s\tremaining: 3.85s\n",
      "465:\tlearn: 0.5094839\ttotal: 3.35s\tremaining: 3.84s\n",
      "466:\tlearn: 0.5089748\ttotal: 3.36s\tremaining: 3.83s\n",
      "467:\tlearn: 0.5087680\ttotal: 3.36s\tremaining: 3.82s\n",
      "468:\tlearn: 0.5087090\ttotal: 3.37s\tremaining: 3.81s\n",
      "469:\tlearn: 0.5085907\ttotal: 3.38s\tremaining: 3.81s\n",
      "470:\tlearn: 0.5084539\ttotal: 3.38s\tremaining: 3.8s\n",
      "471:\tlearn: 0.5082213\ttotal: 3.39s\tremaining: 3.79s\n",
      "472:\tlearn: 0.5081905\ttotal: 3.39s\tremaining: 3.78s\n",
      "473:\tlearn: 0.5080341\ttotal: 3.4s\tremaining: 3.77s\n",
      "474:\tlearn: 0.5075119\ttotal: 3.4s\tremaining: 3.76s\n",
      "475:\tlearn: 0.5072821\ttotal: 3.41s\tremaining: 3.75s\n",
      "476:\tlearn: 0.5070505\ttotal: 3.41s\tremaining: 3.74s\n",
      "477:\tlearn: 0.5068275\ttotal: 3.42s\tremaining: 3.73s\n",
      "478:\tlearn: 0.5066264\ttotal: 3.42s\tremaining: 3.73s\n",
      "479:\tlearn: 0.5063398\ttotal: 3.43s\tremaining: 3.72s\n",
      "480:\tlearn: 0.5060433\ttotal: 3.44s\tremaining: 3.71s\n",
      "481:\tlearn: 0.5059058\ttotal: 3.44s\tremaining: 3.7s\n",
      "482:\tlearn: 0.5055989\ttotal: 3.45s\tremaining: 3.69s\n",
      "483:\tlearn: 0.5054788\ttotal: 3.45s\tremaining: 3.68s\n",
      "484:\tlearn: 0.5052275\ttotal: 3.46s\tremaining: 3.67s\n",
      "485:\tlearn: 0.5048285\ttotal: 3.46s\tremaining: 3.66s\n",
      "486:\tlearn: 0.5046872\ttotal: 3.47s\tremaining: 3.66s\n",
      "487:\tlearn: 0.5046804\ttotal: 3.48s\tremaining: 3.65s\n",
      "488:\tlearn: 0.5045369\ttotal: 3.49s\tremaining: 3.64s\n",
      "489:\tlearn: 0.5042952\ttotal: 3.5s\tremaining: 3.64s\n",
      "490:\tlearn: 0.5040365\ttotal: 3.51s\tremaining: 3.63s\n",
      "491:\tlearn: 0.5039850\ttotal: 3.52s\tremaining: 3.63s\n",
      "492:\tlearn: 0.5039232\ttotal: 3.52s\tremaining: 3.62s\n",
      "493:\tlearn: 0.5037371\ttotal: 3.53s\tremaining: 3.61s\n",
      "494:\tlearn: 0.5035570\ttotal: 3.53s\tremaining: 3.6s\n",
      "495:\tlearn: 0.5034845\ttotal: 3.54s\tremaining: 3.6s\n",
      "496:\tlearn: 0.5034436\ttotal: 3.54s\tremaining: 3.59s\n",
      "497:\tlearn: 0.5032281\ttotal: 3.55s\tremaining: 3.58s\n",
      "498:\tlearn: 0.5030740\ttotal: 3.56s\tremaining: 3.57s\n",
      "499:\tlearn: 0.5023913\ttotal: 3.56s\tremaining: 3.56s\n",
      "500:\tlearn: 0.5023852\ttotal: 3.57s\tremaining: 3.55s\n",
      "501:\tlearn: 0.5019640\ttotal: 3.57s\tremaining: 3.54s\n",
      "502:\tlearn: 0.5019526\ttotal: 3.58s\tremaining: 3.54s\n",
      "503:\tlearn: 0.5018658\ttotal: 3.58s\tremaining: 3.53s\n",
      "504:\tlearn: 0.5017136\ttotal: 3.59s\tremaining: 3.52s\n",
      "505:\tlearn: 0.5014823\ttotal: 3.6s\tremaining: 3.51s\n",
      "506:\tlearn: 0.5013759\ttotal: 3.6s\tremaining: 3.5s\n",
      "507:\tlearn: 0.5009479\ttotal: 3.61s\tremaining: 3.49s\n",
      "508:\tlearn: 0.5008573\ttotal: 3.61s\tremaining: 3.48s\n",
      "509:\tlearn: 0.5007797\ttotal: 3.62s\tremaining: 3.48s\n",
      "510:\tlearn: 0.5006686\ttotal: 3.62s\tremaining: 3.47s\n",
      "511:\tlearn: 0.5004146\ttotal: 3.63s\tremaining: 3.46s\n",
      "512:\tlearn: 0.5001488\ttotal: 3.63s\tremaining: 3.45s\n",
      "513:\tlearn: 0.5000498\ttotal: 3.64s\tremaining: 3.44s\n",
      "514:\tlearn: 0.4999590\ttotal: 3.64s\tremaining: 3.43s\n",
      "515:\tlearn: 0.4999450\ttotal: 3.65s\tremaining: 3.42s\n",
      "516:\tlearn: 0.4999165\ttotal: 3.65s\tremaining: 3.41s\n",
      "517:\tlearn: 0.4997796\ttotal: 3.66s\tremaining: 3.4s\n",
      "518:\tlearn: 0.4997518\ttotal: 3.66s\tremaining: 3.4s\n",
      "519:\tlearn: 0.4996244\ttotal: 3.67s\tremaining: 3.39s\n",
      "520:\tlearn: 0.4995954\ttotal: 3.67s\tremaining: 3.38s\n",
      "521:\tlearn: 0.4995223\ttotal: 3.69s\tremaining: 3.38s\n",
      "522:\tlearn: 0.4993509\ttotal: 3.7s\tremaining: 3.38s\n",
      "523:\tlearn: 0.4990968\ttotal: 3.71s\tremaining: 3.37s\n",
      "524:\tlearn: 0.4985871\ttotal: 3.71s\tremaining: 3.36s\n",
      "525:\tlearn: 0.4982543\ttotal: 3.72s\tremaining: 3.35s\n",
      "526:\tlearn: 0.4973962\ttotal: 3.73s\tremaining: 3.35s\n",
      "527:\tlearn: 0.4970267\ttotal: 3.73s\tremaining: 3.34s\n",
      "528:\tlearn: 0.4968899\ttotal: 3.75s\tremaining: 3.34s\n",
      "529:\tlearn: 0.4966175\ttotal: 3.75s\tremaining: 3.33s\n",
      "530:\tlearn: 0.4962051\ttotal: 3.76s\tremaining: 3.32s\n",
      "531:\tlearn: 0.4960811\ttotal: 3.77s\tremaining: 3.31s\n",
      "532:\tlearn: 0.4959475\ttotal: 3.77s\tremaining: 3.31s\n",
      "533:\tlearn: 0.4956682\ttotal: 3.78s\tremaining: 3.3s\n",
      "534:\tlearn: 0.4952944\ttotal: 3.78s\tremaining: 3.29s\n",
      "535:\tlearn: 0.4951743\ttotal: 3.79s\tremaining: 3.28s\n",
      "536:\tlearn: 0.4947659\ttotal: 3.8s\tremaining: 3.27s\n",
      "537:\tlearn: 0.4946346\ttotal: 3.8s\tremaining: 3.27s\n",
      "538:\tlearn: 0.4946035\ttotal: 3.81s\tremaining: 3.26s\n",
      "539:\tlearn: 0.4943848\ttotal: 3.81s\tremaining: 3.25s\n",
      "540:\tlearn: 0.4943058\ttotal: 3.82s\tremaining: 3.24s\n",
      "541:\tlearn: 0.4943014\ttotal: 3.82s\tremaining: 3.23s\n",
      "542:\tlearn: 0.4942145\ttotal: 3.83s\tremaining: 3.22s\n",
      "543:\tlearn: 0.4940152\ttotal: 3.83s\tremaining: 3.21s\n",
      "544:\tlearn: 0.4938986\ttotal: 3.84s\tremaining: 3.21s\n",
      "545:\tlearn: 0.4936995\ttotal: 3.85s\tremaining: 3.2s\n",
      "546:\tlearn: 0.4936883\ttotal: 3.85s\tremaining: 3.19s\n",
      "547:\tlearn: 0.4936300\ttotal: 3.86s\tremaining: 3.18s\n",
      "548:\tlearn: 0.4934572\ttotal: 3.86s\tremaining: 3.17s\n",
      "549:\tlearn: 0.4929292\ttotal: 3.87s\tremaining: 3.16s\n",
      "550:\tlearn: 0.4927709\ttotal: 3.87s\tremaining: 3.16s\n"
     ]
    },
    {
     "name": "stdout",
     "output_type": "stream",
     "text": [
      "551:\tlearn: 0.4927583\ttotal: 3.88s\tremaining: 3.15s\n",
      "552:\tlearn: 0.4926676\ttotal: 3.89s\tremaining: 3.15s\n",
      "553:\tlearn: 0.4924512\ttotal: 3.91s\tremaining: 3.14s\n",
      "554:\tlearn: 0.4923917\ttotal: 3.91s\tremaining: 3.14s\n",
      "555:\tlearn: 0.4923186\ttotal: 3.92s\tremaining: 3.13s\n",
      "556:\tlearn: 0.4919929\ttotal: 3.92s\tremaining: 3.12s\n",
      "557:\tlearn: 0.4918715\ttotal: 3.93s\tremaining: 3.11s\n",
      "558:\tlearn: 0.4917690\ttotal: 3.94s\tremaining: 3.1s\n",
      "559:\tlearn: 0.4915701\ttotal: 3.94s\tremaining: 3.1s\n",
      "560:\tlearn: 0.4909470\ttotal: 3.95s\tremaining: 3.09s\n",
      "561:\tlearn: 0.4909240\ttotal: 3.95s\tremaining: 3.08s\n",
      "562:\tlearn: 0.4907845\ttotal: 3.96s\tremaining: 3.07s\n",
      "563:\tlearn: 0.4907274\ttotal: 3.96s\tremaining: 3.06s\n",
      "564:\tlearn: 0.4905267\ttotal: 3.97s\tremaining: 3.06s\n",
      "565:\tlearn: 0.4904265\ttotal: 3.98s\tremaining: 3.05s\n",
      "566:\tlearn: 0.4903303\ttotal: 3.98s\tremaining: 3.04s\n",
      "567:\tlearn: 0.4900822\ttotal: 3.99s\tremaining: 3.03s\n",
      "568:\tlearn: 0.4898632\ttotal: 4s\tremaining: 3.03s\n",
      "569:\tlearn: 0.4897571\ttotal: 4s\tremaining: 3.02s\n",
      "570:\tlearn: 0.4894497\ttotal: 4.01s\tremaining: 3.01s\n",
      "571:\tlearn: 0.4892024\ttotal: 4.01s\tremaining: 3s\n",
      "572:\tlearn: 0.4891192\ttotal: 4.02s\tremaining: 2.99s\n",
      "573:\tlearn: 0.4886702\ttotal: 4.02s\tremaining: 2.98s\n",
      "574:\tlearn: 0.4886694\ttotal: 4.03s\tremaining: 2.98s\n",
      "575:\tlearn: 0.4885110\ttotal: 4.03s\tremaining: 2.97s\n",
      "576:\tlearn: 0.4883551\ttotal: 4.04s\tremaining: 2.96s\n",
      "577:\tlearn: 0.4882943\ttotal: 4.04s\tremaining: 2.95s\n",
      "578:\tlearn: 0.4880442\ttotal: 4.05s\tremaining: 2.95s\n",
      "579:\tlearn: 0.4878673\ttotal: 4.06s\tremaining: 2.94s\n",
      "580:\tlearn: 0.4877970\ttotal: 4.06s\tremaining: 2.93s\n",
      "581:\tlearn: 0.4877552\ttotal: 4.07s\tremaining: 2.92s\n",
      "582:\tlearn: 0.4875893\ttotal: 4.08s\tremaining: 2.92s\n",
      "583:\tlearn: 0.4874809\ttotal: 4.09s\tremaining: 2.92s\n",
      "584:\tlearn: 0.4873029\ttotal: 4.11s\tremaining: 2.91s\n",
      "585:\tlearn: 0.4871217\ttotal: 4.11s\tremaining: 2.9s\n",
      "586:\tlearn: 0.4869937\ttotal: 4.12s\tremaining: 2.9s\n",
      "587:\tlearn: 0.4868653\ttotal: 4.12s\tremaining: 2.89s\n",
      "588:\tlearn: 0.4867251\ttotal: 4.13s\tremaining: 2.88s\n",
      "589:\tlearn: 0.4865350\ttotal: 4.14s\tremaining: 2.88s\n",
      "590:\tlearn: 0.4864647\ttotal: 4.14s\tremaining: 2.87s\n",
      "591:\tlearn: 0.4864495\ttotal: 4.15s\tremaining: 2.86s\n",
      "592:\tlearn: 0.4863353\ttotal: 4.16s\tremaining: 2.85s\n",
      "593:\tlearn: 0.4863163\ttotal: 4.16s\tremaining: 2.85s\n",
      "594:\tlearn: 0.4858915\ttotal: 4.17s\tremaining: 2.84s\n",
      "595:\tlearn: 0.4857931\ttotal: 4.18s\tremaining: 2.83s\n",
      "596:\tlearn: 0.4855205\ttotal: 4.19s\tremaining: 2.83s\n",
      "597:\tlearn: 0.4854082\ttotal: 4.19s\tremaining: 2.82s\n",
      "598:\tlearn: 0.4853517\ttotal: 4.2s\tremaining: 2.81s\n",
      "599:\tlearn: 0.4853299\ttotal: 4.2s\tremaining: 2.8s\n",
      "600:\tlearn: 0.4850346\ttotal: 4.21s\tremaining: 2.79s\n",
      "601:\tlearn: 0.4848712\ttotal: 4.21s\tremaining: 2.79s\n",
      "602:\tlearn: 0.4846591\ttotal: 4.22s\tremaining: 2.78s\n",
      "603:\tlearn: 0.4845788\ttotal: 4.23s\tremaining: 2.77s\n",
      "604:\tlearn: 0.4839394\ttotal: 4.23s\tremaining: 2.76s\n",
      "605:\tlearn: 0.4838511\ttotal: 4.24s\tremaining: 2.75s\n",
      "606:\tlearn: 0.4837163\ttotal: 4.24s\tremaining: 2.75s\n",
      "607:\tlearn: 0.4835553\ttotal: 4.25s\tremaining: 2.74s\n",
      "608:\tlearn: 0.4835238\ttotal: 4.25s\tremaining: 2.73s\n",
      "609:\tlearn: 0.4832857\ttotal: 4.26s\tremaining: 2.73s\n",
      "610:\tlearn: 0.4832220\ttotal: 4.27s\tremaining: 2.72s\n",
      "611:\tlearn: 0.4828114\ttotal: 4.28s\tremaining: 2.71s\n",
      "612:\tlearn: 0.4824378\ttotal: 4.29s\tremaining: 2.71s\n",
      "613:\tlearn: 0.4821220\ttotal: 4.3s\tremaining: 2.7s\n",
      "614:\tlearn: 0.4820132\ttotal: 4.31s\tremaining: 2.7s\n",
      "615:\tlearn: 0.4819420\ttotal: 4.31s\tremaining: 2.69s\n",
      "616:\tlearn: 0.4816428\ttotal: 4.32s\tremaining: 2.68s\n",
      "617:\tlearn: 0.4813578\ttotal: 4.33s\tremaining: 2.67s\n",
      "618:\tlearn: 0.4813394\ttotal: 4.33s\tremaining: 2.67s\n",
      "619:\tlearn: 0.4808821\ttotal: 4.34s\tremaining: 2.66s\n",
      "620:\tlearn: 0.4807686\ttotal: 4.34s\tremaining: 2.65s\n",
      "621:\tlearn: 0.4804920\ttotal: 4.35s\tremaining: 2.64s\n",
      "622:\tlearn: 0.4803002\ttotal: 4.36s\tremaining: 2.64s\n",
      "623:\tlearn: 0.4801929\ttotal: 4.37s\tremaining: 2.63s\n",
      "624:\tlearn: 0.4800480\ttotal: 4.38s\tremaining: 2.63s\n",
      "625:\tlearn: 0.4798425\ttotal: 4.38s\tremaining: 2.62s\n",
      "626:\tlearn: 0.4797533\ttotal: 4.39s\tremaining: 2.61s\n",
      "627:\tlearn: 0.4795683\ttotal: 4.39s\tremaining: 2.6s\n",
      "628:\tlearn: 0.4794468\ttotal: 4.4s\tremaining: 2.59s\n",
      "629:\tlearn: 0.4793901\ttotal: 4.4s\tremaining: 2.59s\n",
      "630:\tlearn: 0.4793597\ttotal: 4.41s\tremaining: 2.58s\n",
      "631:\tlearn: 0.4793328\ttotal: 4.41s\tremaining: 2.57s\n",
      "632:\tlearn: 0.4792081\ttotal: 4.42s\tremaining: 2.56s\n",
      "633:\tlearn: 0.4791697\ttotal: 4.42s\tremaining: 2.55s\n",
      "634:\tlearn: 0.4790286\ttotal: 4.43s\tremaining: 2.55s\n",
      "635:\tlearn: 0.4789804\ttotal: 4.44s\tremaining: 2.54s\n",
      "636:\tlearn: 0.4785115\ttotal: 4.44s\tremaining: 2.53s\n",
      "637:\tlearn: 0.4782043\ttotal: 4.45s\tremaining: 2.52s\n",
      "638:\tlearn: 0.4780044\ttotal: 4.46s\tremaining: 2.52s\n",
      "639:\tlearn: 0.4776976\ttotal: 4.47s\tremaining: 2.51s\n",
      "640:\tlearn: 0.4773992\ttotal: 4.48s\tremaining: 2.51s\n",
      "641:\tlearn: 0.4771847\ttotal: 4.49s\tremaining: 2.5s\n",
      "642:\tlearn: 0.4770614\ttotal: 4.5s\tremaining: 2.5s\n",
      "643:\tlearn: 0.4770117\ttotal: 4.5s\tremaining: 2.49s\n",
      "644:\tlearn: 0.4768191\ttotal: 4.51s\tremaining: 2.48s\n",
      "645:\tlearn: 0.4764994\ttotal: 4.51s\tremaining: 2.47s\n",
      "646:\tlearn: 0.4762363\ttotal: 4.52s\tremaining: 2.47s\n",
      "647:\tlearn: 0.4756152\ttotal: 4.53s\tremaining: 2.46s\n",
      "648:\tlearn: 0.4754665\ttotal: 4.53s\tremaining: 2.45s\n",
      "649:\tlearn: 0.4747611\ttotal: 4.54s\tremaining: 2.44s\n",
      "650:\tlearn: 0.4746190\ttotal: 4.54s\tremaining: 2.44s\n",
      "651:\tlearn: 0.4745620\ttotal: 4.55s\tremaining: 2.43s\n",
      "652:\tlearn: 0.4742170\ttotal: 4.55s\tremaining: 2.42s\n",
      "653:\tlearn: 0.4741013\ttotal: 4.56s\tremaining: 2.41s\n",
      "654:\tlearn: 0.4739634\ttotal: 4.57s\tremaining: 2.4s\n",
      "655:\tlearn: 0.4739257\ttotal: 4.57s\tremaining: 2.4s\n",
      "656:\tlearn: 0.4738144\ttotal: 4.58s\tremaining: 2.39s\n",
      "657:\tlearn: 0.4737927\ttotal: 4.58s\tremaining: 2.38s\n",
      "658:\tlearn: 0.4736969\ttotal: 4.59s\tremaining: 2.37s\n",
      "659:\tlearn: 0.4735567\ttotal: 4.59s\tremaining: 2.37s\n",
      "660:\tlearn: 0.4733561\ttotal: 4.6s\tremaining: 2.36s\n",
      "661:\tlearn: 0.4729888\ttotal: 4.61s\tremaining: 2.35s\n",
      "662:\tlearn: 0.4728785\ttotal: 4.61s\tremaining: 2.34s\n",
      "663:\tlearn: 0.4721802\ttotal: 4.62s\tremaining: 2.34s\n",
      "664:\tlearn: 0.4721056\ttotal: 4.62s\tremaining: 2.33s\n",
      "665:\tlearn: 0.4720774\ttotal: 4.63s\tremaining: 2.32s\n",
      "666:\tlearn: 0.4718742\ttotal: 4.63s\tremaining: 2.31s\n",
      "667:\tlearn: 0.4717180\ttotal: 4.64s\tremaining: 2.31s\n",
      "668:\tlearn: 0.4716069\ttotal: 4.65s\tremaining: 2.3s\n",
      "669:\tlearn: 0.4710449\ttotal: 4.65s\tremaining: 2.29s\n",
      "670:\tlearn: 0.4709688\ttotal: 4.66s\tremaining: 2.28s\n",
      "671:\tlearn: 0.4709029\ttotal: 4.67s\tremaining: 2.28s\n",
      "672:\tlearn: 0.4707675\ttotal: 4.69s\tremaining: 2.28s\n",
      "673:\tlearn: 0.4705145\ttotal: 4.69s\tremaining: 2.27s\n",
      "674:\tlearn: 0.4704777\ttotal: 4.7s\tremaining: 2.26s\n",
      "675:\tlearn: 0.4703822\ttotal: 4.71s\tremaining: 2.25s\n",
      "676:\tlearn: 0.4700816\ttotal: 4.71s\tremaining: 2.25s\n",
      "677:\tlearn: 0.4699342\ttotal: 4.72s\tremaining: 2.24s\n",
      "678:\tlearn: 0.4692722\ttotal: 4.72s\tremaining: 2.23s\n",
      "679:\tlearn: 0.4689220\ttotal: 4.73s\tremaining: 2.23s\n",
      "680:\tlearn: 0.4685998\ttotal: 4.74s\tremaining: 2.22s\n",
      "681:\tlearn: 0.4681543\ttotal: 4.74s\tremaining: 2.21s\n",
      "682:\tlearn: 0.4678234\ttotal: 4.75s\tremaining: 2.2s\n",
      "683:\tlearn: 0.4676232\ttotal: 4.75s\tremaining: 2.19s\n",
      "684:\tlearn: 0.4674294\ttotal: 4.76s\tremaining: 2.19s\n",
      "685:\tlearn: 0.4672707\ttotal: 4.76s\tremaining: 2.18s\n",
      "686:\tlearn: 0.4669555\ttotal: 4.77s\tremaining: 2.17s\n",
      "687:\tlearn: 0.4668886\ttotal: 4.77s\tremaining: 2.17s\n",
      "688:\tlearn: 0.4662625\ttotal: 4.78s\tremaining: 2.16s\n",
      "689:\tlearn: 0.4660934\ttotal: 4.78s\tremaining: 2.15s\n",
      "690:\tlearn: 0.4658707\ttotal: 4.79s\tremaining: 2.14s\n",
      "691:\tlearn: 0.4656862\ttotal: 4.8s\tremaining: 2.13s\n",
      "692:\tlearn: 0.4655915\ttotal: 4.8s\tremaining: 2.13s\n",
      "693:\tlearn: 0.4655794\ttotal: 4.81s\tremaining: 2.12s\n",
      "694:\tlearn: 0.4654364\ttotal: 4.81s\tremaining: 2.11s\n",
      "695:\tlearn: 0.4653712\ttotal: 4.82s\tremaining: 2.1s\n",
      "696:\tlearn: 0.4651110\ttotal: 4.82s\tremaining: 2.1s\n",
      "697:\tlearn: 0.4649675\ttotal: 4.83s\tremaining: 2.09s\n",
      "698:\tlearn: 0.4648798\ttotal: 4.83s\tremaining: 2.08s\n",
      "699:\tlearn: 0.4644587\ttotal: 4.84s\tremaining: 2.07s\n",
      "700:\tlearn: 0.4643630\ttotal: 4.85s\tremaining: 2.07s\n",
      "701:\tlearn: 0.4642293\ttotal: 4.85s\tremaining: 2.06s\n",
      "702:\tlearn: 0.4639525\ttotal: 4.86s\tremaining: 2.05s\n",
      "703:\tlearn: 0.4637274\ttotal: 4.87s\tremaining: 2.05s\n",
      "704:\tlearn: 0.4634679\ttotal: 4.88s\tremaining: 2.04s\n",
      "705:\tlearn: 0.4632057\ttotal: 4.89s\tremaining: 2.04s\n",
      "706:\tlearn: 0.4630836\ttotal: 4.9s\tremaining: 2.03s\n",
      "707:\tlearn: 0.4629427\ttotal: 4.91s\tremaining: 2.02s\n",
      "708:\tlearn: 0.4628390\ttotal: 4.91s\tremaining: 2.02s\n",
      "709:\tlearn: 0.4626159\ttotal: 4.93s\tremaining: 2.01s\n",
      "710:\tlearn: 0.4625952\ttotal: 4.94s\tremaining: 2.01s\n",
      "711:\tlearn: 0.4623659\ttotal: 4.95s\tremaining: 2s\n",
      "712:\tlearn: 0.4619762\ttotal: 4.95s\tremaining: 1.99s\n",
      "713:\tlearn: 0.4616395\ttotal: 4.96s\tremaining: 1.99s\n",
      "714:\tlearn: 0.4614075\ttotal: 4.97s\tremaining: 1.98s\n",
      "715:\tlearn: 0.4610085\ttotal: 4.98s\tremaining: 1.97s\n",
      "716:\tlearn: 0.4608898\ttotal: 4.98s\tremaining: 1.97s\n",
      "717:\tlearn: 0.4606458\ttotal: 4.99s\tremaining: 1.96s\n",
      "718:\tlearn: 0.4602787\ttotal: 5s\tremaining: 1.96s\n",
      "719:\tlearn: 0.4598949\ttotal: 5.02s\tremaining: 1.95s\n",
      "720:\tlearn: 0.4596698\ttotal: 5.02s\tremaining: 1.94s\n",
      "721:\tlearn: 0.4596468\ttotal: 5.03s\tremaining: 1.94s\n",
      "722:\tlearn: 0.4595919\ttotal: 5.03s\tremaining: 1.93s\n"
     ]
    },
    {
     "name": "stdout",
     "output_type": "stream",
     "text": [
      "723:\tlearn: 0.4592448\ttotal: 5.04s\tremaining: 1.92s\n",
      "724:\tlearn: 0.4591651\ttotal: 5.05s\tremaining: 1.92s\n",
      "725:\tlearn: 0.4590003\ttotal: 5.07s\tremaining: 1.91s\n",
      "726:\tlearn: 0.4583985\ttotal: 5.07s\tremaining: 1.9s\n",
      "727:\tlearn: 0.4583795\ttotal: 5.08s\tremaining: 1.9s\n",
      "728:\tlearn: 0.4582204\ttotal: 5.08s\tremaining: 1.89s\n",
      "729:\tlearn: 0.4578837\ttotal: 5.09s\tremaining: 1.88s\n",
      "730:\tlearn: 0.4578688\ttotal: 5.09s\tremaining: 1.87s\n",
      "731:\tlearn: 0.4577976\ttotal: 5.1s\tremaining: 1.87s\n",
      "732:\tlearn: 0.4575290\ttotal: 5.11s\tremaining: 1.86s\n",
      "733:\tlearn: 0.4572943\ttotal: 5.11s\tremaining: 1.85s\n",
      "734:\tlearn: 0.4569837\ttotal: 5.12s\tremaining: 1.84s\n",
      "735:\tlearn: 0.4568300\ttotal: 5.12s\tremaining: 1.84s\n",
      "736:\tlearn: 0.4564156\ttotal: 5.13s\tremaining: 1.83s\n",
      "737:\tlearn: 0.4562750\ttotal: 5.13s\tremaining: 1.82s\n",
      "738:\tlearn: 0.4560963\ttotal: 5.14s\tremaining: 1.81s\n",
      "739:\tlearn: 0.4559983\ttotal: 5.15s\tremaining: 1.81s\n",
      "740:\tlearn: 0.4559091\ttotal: 5.15s\tremaining: 1.8s\n",
      "741:\tlearn: 0.4557681\ttotal: 5.16s\tremaining: 1.79s\n",
      "742:\tlearn: 0.4556112\ttotal: 5.16s\tremaining: 1.78s\n",
      "743:\tlearn: 0.4555550\ttotal: 5.17s\tremaining: 1.78s\n",
      "744:\tlearn: 0.4553478\ttotal: 5.17s\tremaining: 1.77s\n",
      "745:\tlearn: 0.4552295\ttotal: 5.18s\tremaining: 1.76s\n",
      "746:\tlearn: 0.4550209\ttotal: 5.18s\tremaining: 1.76s\n",
      "747:\tlearn: 0.4549378\ttotal: 5.19s\tremaining: 1.75s\n",
      "748:\tlearn: 0.4545237\ttotal: 5.2s\tremaining: 1.74s\n",
      "749:\tlearn: 0.4544575\ttotal: 5.2s\tremaining: 1.73s\n",
      "750:\tlearn: 0.4542454\ttotal: 5.21s\tremaining: 1.73s\n",
      "751:\tlearn: 0.4535682\ttotal: 5.21s\tremaining: 1.72s\n",
      "752:\tlearn: 0.4533876\ttotal: 5.22s\tremaining: 1.71s\n",
      "753:\tlearn: 0.4532461\ttotal: 5.22s\tremaining: 1.7s\n",
      "754:\tlearn: 0.4531995\ttotal: 5.24s\tremaining: 1.7s\n",
      "755:\tlearn: 0.4530017\ttotal: 5.25s\tremaining: 1.69s\n",
      "756:\tlearn: 0.4527742\ttotal: 5.26s\tremaining: 1.69s\n",
      "757:\tlearn: 0.4525794\ttotal: 5.27s\tremaining: 1.68s\n",
      "758:\tlearn: 0.4525308\ttotal: 5.28s\tremaining: 1.68s\n",
      "759:\tlearn: 0.4523058\ttotal: 5.28s\tremaining: 1.67s\n",
      "760:\tlearn: 0.4522382\ttotal: 5.29s\tremaining: 1.66s\n",
      "761:\tlearn: 0.4519362\ttotal: 5.29s\tremaining: 1.65s\n",
      "762:\tlearn: 0.4518788\ttotal: 5.3s\tremaining: 1.65s\n",
      "763:\tlearn: 0.4516942\ttotal: 5.31s\tremaining: 1.64s\n",
      "764:\tlearn: 0.4515212\ttotal: 5.31s\tremaining: 1.63s\n",
      "765:\tlearn: 0.4513189\ttotal: 5.32s\tremaining: 1.62s\n",
      "766:\tlearn: 0.4512737\ttotal: 5.32s\tremaining: 1.62s\n",
      "767:\tlearn: 0.4511909\ttotal: 5.33s\tremaining: 1.61s\n",
      "768:\tlearn: 0.4508232\ttotal: 5.33s\tremaining: 1.6s\n",
      "769:\tlearn: 0.4506151\ttotal: 5.34s\tremaining: 1.59s\n",
      "770:\tlearn: 0.4501068\ttotal: 5.35s\tremaining: 1.59s\n",
      "771:\tlearn: 0.4500014\ttotal: 5.35s\tremaining: 1.58s\n",
      "772:\tlearn: 0.4496366\ttotal: 5.36s\tremaining: 1.57s\n",
      "773:\tlearn: 0.4496093\ttotal: 5.36s\tremaining: 1.57s\n",
      "774:\tlearn: 0.4494427\ttotal: 5.37s\tremaining: 1.56s\n",
      "775:\tlearn: 0.4493793\ttotal: 5.38s\tremaining: 1.55s\n",
      "776:\tlearn: 0.4493700\ttotal: 5.38s\tremaining: 1.54s\n",
      "777:\tlearn: 0.4491415\ttotal: 5.39s\tremaining: 1.54s\n",
      "778:\tlearn: 0.4490786\ttotal: 5.39s\tremaining: 1.53s\n",
      "779:\tlearn: 0.4489558\ttotal: 5.4s\tremaining: 1.52s\n",
      "780:\tlearn: 0.4488691\ttotal: 5.4s\tremaining: 1.51s\n",
      "781:\tlearn: 0.4481628\ttotal: 5.41s\tremaining: 1.51s\n",
      "782:\tlearn: 0.4480769\ttotal: 5.41s\tremaining: 1.5s\n",
      "783:\tlearn: 0.4480677\ttotal: 5.42s\tremaining: 1.49s\n",
      "784:\tlearn: 0.4477508\ttotal: 5.42s\tremaining: 1.49s\n",
      "785:\tlearn: 0.4476730\ttotal: 5.44s\tremaining: 1.48s\n",
      "786:\tlearn: 0.4476305\ttotal: 5.45s\tremaining: 1.48s\n",
      "787:\tlearn: 0.4473165\ttotal: 5.46s\tremaining: 1.47s\n",
      "788:\tlearn: 0.4469700\ttotal: 5.47s\tremaining: 1.46s\n",
      "789:\tlearn: 0.4466099\ttotal: 5.47s\tremaining: 1.45s\n",
      "790:\tlearn: 0.4464235\ttotal: 5.48s\tremaining: 1.45s\n",
      "791:\tlearn: 0.4461876\ttotal: 5.49s\tremaining: 1.44s\n",
      "792:\tlearn: 0.4457477\ttotal: 5.49s\tremaining: 1.43s\n",
      "793:\tlearn: 0.4457024\ttotal: 5.5s\tremaining: 1.43s\n",
      "794:\tlearn: 0.4454713\ttotal: 5.5s\tremaining: 1.42s\n",
      "795:\tlearn: 0.4453191\ttotal: 5.51s\tremaining: 1.41s\n",
      "796:\tlearn: 0.4451305\ttotal: 5.52s\tremaining: 1.41s\n",
      "797:\tlearn: 0.4450913\ttotal: 5.52s\tremaining: 1.4s\n",
      "798:\tlearn: 0.4448786\ttotal: 5.53s\tremaining: 1.39s\n",
      "799:\tlearn: 0.4447784\ttotal: 5.54s\tremaining: 1.38s\n",
      "800:\tlearn: 0.4444552\ttotal: 5.54s\tremaining: 1.38s\n",
      "801:\tlearn: 0.4443744\ttotal: 5.55s\tremaining: 1.37s\n",
      "802:\tlearn: 0.4441224\ttotal: 5.55s\tremaining: 1.36s\n",
      "803:\tlearn: 0.4439461\ttotal: 5.56s\tremaining: 1.35s\n",
      "804:\tlearn: 0.4437991\ttotal: 5.57s\tremaining: 1.35s\n",
      "805:\tlearn: 0.4437482\ttotal: 5.57s\tremaining: 1.34s\n",
      "806:\tlearn: 0.4437092\ttotal: 5.58s\tremaining: 1.33s\n",
      "807:\tlearn: 0.4433472\ttotal: 5.59s\tremaining: 1.33s\n",
      "808:\tlearn: 0.4428430\ttotal: 5.59s\tremaining: 1.32s\n",
      "809:\tlearn: 0.4426347\ttotal: 5.6s\tremaining: 1.31s\n",
      "810:\tlearn: 0.4424897\ttotal: 5.61s\tremaining: 1.31s\n",
      "811:\tlearn: 0.4423013\ttotal: 5.62s\tremaining: 1.3s\n",
      "812:\tlearn: 0.4421646\ttotal: 5.63s\tremaining: 1.29s\n",
      "813:\tlearn: 0.4416100\ttotal: 5.64s\tremaining: 1.29s\n",
      "814:\tlearn: 0.4414594\ttotal: 5.65s\tremaining: 1.28s\n",
      "815:\tlearn: 0.4412665\ttotal: 5.66s\tremaining: 1.28s\n",
      "816:\tlearn: 0.4411414\ttotal: 5.67s\tremaining: 1.27s\n",
      "817:\tlearn: 0.4410795\ttotal: 5.67s\tremaining: 1.26s\n",
      "818:\tlearn: 0.4405836\ttotal: 5.68s\tremaining: 1.25s\n",
      "819:\tlearn: 0.4403555\ttotal: 5.69s\tremaining: 1.25s\n",
      "820:\tlearn: 0.4402754\ttotal: 5.69s\tremaining: 1.24s\n",
      "821:\tlearn: 0.4398779\ttotal: 5.7s\tremaining: 1.23s\n",
      "822:\tlearn: 0.4396065\ttotal: 5.7s\tremaining: 1.23s\n",
      "823:\tlearn: 0.4395157\ttotal: 5.71s\tremaining: 1.22s\n",
      "824:\tlearn: 0.4395132\ttotal: 5.71s\tremaining: 1.21s\n",
      "825:\tlearn: 0.4394733\ttotal: 5.72s\tremaining: 1.21s\n",
      "826:\tlearn: 0.4389542\ttotal: 5.73s\tremaining: 1.2s\n",
      "827:\tlearn: 0.4387296\ttotal: 5.73s\tremaining: 1.19s\n",
      "828:\tlearn: 0.4383480\ttotal: 5.74s\tremaining: 1.18s\n",
      "829:\tlearn: 0.4382717\ttotal: 5.74s\tremaining: 1.18s\n",
      "830:\tlearn: 0.4381675\ttotal: 5.75s\tremaining: 1.17s\n",
      "831:\tlearn: 0.4380586\ttotal: 5.75s\tremaining: 1.16s\n",
      "832:\tlearn: 0.4379763\ttotal: 5.76s\tremaining: 1.16s\n",
      "833:\tlearn: 0.4378322\ttotal: 5.77s\tremaining: 1.15s\n",
      "834:\tlearn: 0.4376393\ttotal: 5.77s\tremaining: 1.14s\n",
      "835:\tlearn: 0.4374754\ttotal: 5.78s\tremaining: 1.13s\n",
      "836:\tlearn: 0.4372624\ttotal: 5.78s\tremaining: 1.13s\n",
      "837:\tlearn: 0.4370270\ttotal: 5.79s\tremaining: 1.12s\n",
      "838:\tlearn: 0.4370248\ttotal: 5.79s\tremaining: 1.11s\n",
      "839:\tlearn: 0.4369098\ttotal: 5.8s\tremaining: 1.1s\n",
      "840:\tlearn: 0.4368220\ttotal: 5.81s\tremaining: 1.1s\n",
      "841:\tlearn: 0.4365773\ttotal: 5.81s\tremaining: 1.09s\n",
      "842:\tlearn: 0.4362637\ttotal: 5.82s\tremaining: 1.08s\n",
      "843:\tlearn: 0.4361545\ttotal: 5.82s\tremaining: 1.08s\n",
      "844:\tlearn: 0.4359633\ttotal: 5.83s\tremaining: 1.07s\n",
      "845:\tlearn: 0.4359042\ttotal: 5.84s\tremaining: 1.06s\n",
      "846:\tlearn: 0.4353261\ttotal: 5.86s\tremaining: 1.06s\n",
      "847:\tlearn: 0.4352319\ttotal: 5.86s\tremaining: 1.05s\n",
      "848:\tlearn: 0.4351165\ttotal: 5.87s\tremaining: 1.04s\n",
      "849:\tlearn: 0.4349287\ttotal: 5.88s\tremaining: 1.04s\n",
      "850:\tlearn: 0.4348033\ttotal: 5.88s\tremaining: 1.03s\n",
      "851:\tlearn: 0.4346937\ttotal: 5.89s\tremaining: 1.02s\n",
      "852:\tlearn: 0.4345325\ttotal: 5.89s\tremaining: 1.01s\n",
      "853:\tlearn: 0.4344474\ttotal: 5.9s\tremaining: 1.01s\n",
      "854:\tlearn: 0.4342764\ttotal: 5.91s\tremaining: 1s\n",
      "855:\tlearn: 0.4339072\ttotal: 5.91s\tremaining: 995ms\n",
      "856:\tlearn: 0.4338387\ttotal: 5.92s\tremaining: 987ms\n",
      "857:\tlearn: 0.4335308\ttotal: 5.92s\tremaining: 980ms\n",
      "858:\tlearn: 0.4333545\ttotal: 5.93s\tremaining: 974ms\n",
      "859:\tlearn: 0.4329024\ttotal: 5.95s\tremaining: 968ms\n",
      "860:\tlearn: 0.4327227\ttotal: 5.95s\tremaining: 961ms\n",
      "861:\tlearn: 0.4326999\ttotal: 5.96s\tremaining: 954ms\n",
      "862:\tlearn: 0.4324046\ttotal: 5.96s\tremaining: 947ms\n",
      "863:\tlearn: 0.4322124\ttotal: 5.97s\tremaining: 940ms\n",
      "864:\tlearn: 0.4317854\ttotal: 5.98s\tremaining: 933ms\n",
      "865:\tlearn: 0.4316229\ttotal: 5.98s\tremaining: 926ms\n",
      "866:\tlearn: 0.4315672\ttotal: 5.99s\tremaining: 919ms\n",
      "867:\tlearn: 0.4315268\ttotal: 5.99s\tremaining: 912ms\n",
      "868:\tlearn: 0.4313182\ttotal: 6s\tremaining: 904ms\n",
      "869:\tlearn: 0.4312874\ttotal: 6s\tremaining: 897ms\n",
      "870:\tlearn: 0.4311828\ttotal: 6.01s\tremaining: 890ms\n",
      "871:\tlearn: 0.4310291\ttotal: 6.02s\tremaining: 883ms\n",
      "872:\tlearn: 0.4309000\ttotal: 6.03s\tremaining: 877ms\n",
      "873:\tlearn: 0.4307512\ttotal: 6.04s\tremaining: 871ms\n",
      "874:\tlearn: 0.4304301\ttotal: 6.05s\tremaining: 864ms\n",
      "875:\tlearn: 0.4301818\ttotal: 6.05s\tremaining: 857ms\n",
      "876:\tlearn: 0.4301773\ttotal: 6.06s\tremaining: 850ms\n",
      "877:\tlearn: 0.4296013\ttotal: 6.07s\tremaining: 843ms\n",
      "878:\tlearn: 0.4295000\ttotal: 6.07s\tremaining: 836ms\n",
      "879:\tlearn: 0.4294054\ttotal: 6.08s\tremaining: 829ms\n",
      "880:\tlearn: 0.4292940\ttotal: 6.08s\tremaining: 822ms\n",
      "881:\tlearn: 0.4291727\ttotal: 6.09s\tremaining: 815ms\n",
      "882:\tlearn: 0.4290687\ttotal: 6.1s\tremaining: 808ms\n",
      "883:\tlearn: 0.4290132\ttotal: 6.1s\tremaining: 801ms\n",
      "884:\tlearn: 0.4288179\ttotal: 6.11s\tremaining: 794ms\n",
      "885:\tlearn: 0.4287722\ttotal: 6.11s\tremaining: 787ms\n",
      "886:\tlearn: 0.4286110\ttotal: 6.12s\tremaining: 780ms\n",
      "887:\tlearn: 0.4282757\ttotal: 6.12s\tremaining: 773ms\n",
      "888:\tlearn: 0.4281842\ttotal: 6.13s\tremaining: 766ms\n",
      "889:\tlearn: 0.4279209\ttotal: 6.14s\tremaining: 758ms\n",
      "890:\tlearn: 0.4276731\ttotal: 6.14s\tremaining: 752ms\n",
      "891:\tlearn: 0.4276108\ttotal: 6.15s\tremaining: 745ms\n",
      "892:\tlearn: 0.4275927\ttotal: 6.16s\tremaining: 738ms\n",
      "893:\tlearn: 0.4274776\ttotal: 6.16s\tremaining: 731ms\n",
      "894:\tlearn: 0.4272486\ttotal: 6.17s\tremaining: 724ms\n",
      "895:\tlearn: 0.4271840\ttotal: 6.17s\tremaining: 717ms\n",
      "896:\tlearn: 0.4271029\ttotal: 6.18s\tremaining: 710ms\n",
      "897:\tlearn: 0.4269514\ttotal: 6.19s\tremaining: 703ms\n",
      "898:\tlearn: 0.4267735\ttotal: 6.19s\tremaining: 696ms\n",
      "899:\tlearn: 0.4264953\ttotal: 6.2s\tremaining: 689ms\n",
      "900:\tlearn: 0.4262727\ttotal: 6.2s\tremaining: 682ms\n"
     ]
    },
    {
     "name": "stdout",
     "output_type": "stream",
     "text": [
      "901:\tlearn: 0.4261515\ttotal: 6.21s\tremaining: 675ms\n",
      "902:\tlearn: 0.4261149\ttotal: 6.23s\tremaining: 669ms\n",
      "903:\tlearn: 0.4260740\ttotal: 6.24s\tremaining: 662ms\n",
      "904:\tlearn: 0.4260519\ttotal: 6.24s\tremaining: 656ms\n",
      "905:\tlearn: 0.4259235\ttotal: 6.25s\tremaining: 649ms\n",
      "906:\tlearn: 0.4258771\ttotal: 6.26s\tremaining: 642ms\n",
      "907:\tlearn: 0.4256676\ttotal: 6.26s\tremaining: 635ms\n",
      "908:\tlearn: 0.4255995\ttotal: 6.27s\tremaining: 628ms\n",
      "909:\tlearn: 0.4254783\ttotal: 6.28s\tremaining: 621ms\n",
      "910:\tlearn: 0.4254401\ttotal: 6.3s\tremaining: 615ms\n",
      "911:\tlearn: 0.4252483\ttotal: 6.3s\tremaining: 608ms\n",
      "912:\tlearn: 0.4249261\ttotal: 6.31s\tremaining: 601ms\n",
      "913:\tlearn: 0.4242439\ttotal: 6.32s\tremaining: 594ms\n",
      "914:\tlearn: 0.4240051\ttotal: 6.32s\tremaining: 587ms\n",
      "915:\tlearn: 0.4236117\ttotal: 6.33s\tremaining: 580ms\n",
      "916:\tlearn: 0.4235298\ttotal: 6.33s\tremaining: 573ms\n",
      "917:\tlearn: 0.4234499\ttotal: 6.34s\tremaining: 566ms\n",
      "918:\tlearn: 0.4233615\ttotal: 6.34s\tremaining: 559ms\n",
      "919:\tlearn: 0.4231752\ttotal: 6.35s\tremaining: 552ms\n",
      "920:\tlearn: 0.4229206\ttotal: 6.36s\tremaining: 545ms\n",
      "921:\tlearn: 0.4228155\ttotal: 6.36s\tremaining: 538ms\n",
      "922:\tlearn: 0.4226756\ttotal: 6.37s\tremaining: 531ms\n",
      "923:\tlearn: 0.4225693\ttotal: 6.37s\tremaining: 524ms\n",
      "924:\tlearn: 0.4225146\ttotal: 6.38s\tremaining: 517ms\n",
      "925:\tlearn: 0.4224396\ttotal: 6.38s\tremaining: 510ms\n",
      "926:\tlearn: 0.4223607\ttotal: 6.39s\tremaining: 503ms\n",
      "927:\tlearn: 0.4223201\ttotal: 6.4s\tremaining: 496ms\n",
      "928:\tlearn: 0.4222853\ttotal: 6.4s\tremaining: 489ms\n",
      "929:\tlearn: 0.4219867\ttotal: 6.42s\tremaining: 483ms\n",
      "930:\tlearn: 0.4218094\ttotal: 6.43s\tremaining: 477ms\n",
      "931:\tlearn: 0.4214558\ttotal: 6.44s\tremaining: 470ms\n",
      "932:\tlearn: 0.4214092\ttotal: 6.45s\tremaining: 463ms\n",
      "933:\tlearn: 0.4212817\ttotal: 6.45s\tremaining: 456ms\n",
      "934:\tlearn: 0.4211740\ttotal: 6.46s\tremaining: 449ms\n",
      "935:\tlearn: 0.4211145\ttotal: 6.46s\tremaining: 442ms\n",
      "936:\tlearn: 0.4210890\ttotal: 6.47s\tremaining: 435ms\n",
      "937:\tlearn: 0.4210031\ttotal: 6.47s\tremaining: 428ms\n",
      "938:\tlearn: 0.4209433\ttotal: 6.48s\tremaining: 421ms\n",
      "939:\tlearn: 0.4204211\ttotal: 6.49s\tremaining: 414ms\n",
      "940:\tlearn: 0.4203160\ttotal: 6.49s\tremaining: 407ms\n",
      "941:\tlearn: 0.4199972\ttotal: 6.5s\tremaining: 400ms\n",
      "942:\tlearn: 0.4198830\ttotal: 6.5s\tremaining: 393ms\n",
      "943:\tlearn: 0.4196939\ttotal: 6.51s\tremaining: 386ms\n",
      "944:\tlearn: 0.4193881\ttotal: 6.51s\tremaining: 379ms\n",
      "945:\tlearn: 0.4192254\ttotal: 6.52s\tremaining: 372ms\n",
      "946:\tlearn: 0.4192116\ttotal: 6.53s\tremaining: 365ms\n",
      "947:\tlearn: 0.4190800\ttotal: 6.53s\tremaining: 358ms\n",
      "948:\tlearn: 0.4189811\ttotal: 6.54s\tremaining: 351ms\n",
      "949:\tlearn: 0.4189805\ttotal: 6.54s\tremaining: 344ms\n",
      "950:\tlearn: 0.4186619\ttotal: 6.55s\tremaining: 337ms\n",
      "951:\tlearn: 0.4185220\ttotal: 6.55s\tremaining: 330ms\n",
      "952:\tlearn: 0.4183103\ttotal: 6.56s\tremaining: 323ms\n",
      "953:\tlearn: 0.4182556\ttotal: 6.56s\tremaining: 317ms\n",
      "954:\tlearn: 0.4182266\ttotal: 6.57s\tremaining: 310ms\n",
      "955:\tlearn: 0.4181829\ttotal: 6.58s\tremaining: 303ms\n",
      "956:\tlearn: 0.4180519\ttotal: 6.58s\tremaining: 296ms\n",
      "957:\tlearn: 0.4179684\ttotal: 6.59s\tremaining: 289ms\n",
      "958:\tlearn: 0.4179257\ttotal: 6.59s\tremaining: 282ms\n",
      "959:\tlearn: 0.4178291\ttotal: 6.61s\tremaining: 275ms\n",
      "960:\tlearn: 0.4177771\ttotal: 6.62s\tremaining: 269ms\n",
      "961:\tlearn: 0.4175566\ttotal: 6.62s\tremaining: 262ms\n",
      "962:\tlearn: 0.4173853\ttotal: 6.63s\tremaining: 255ms\n",
      "963:\tlearn: 0.4173687\ttotal: 6.64s\tremaining: 248ms\n",
      "964:\tlearn: 0.4170296\ttotal: 6.64s\tremaining: 241ms\n",
      "965:\tlearn: 0.4168655\ttotal: 6.65s\tremaining: 234ms\n",
      "966:\tlearn: 0.4166370\ttotal: 6.66s\tremaining: 227ms\n",
      "967:\tlearn: 0.4163784\ttotal: 6.66s\tremaining: 220ms\n",
      "968:\tlearn: 0.4162806\ttotal: 6.67s\tremaining: 213ms\n",
      "969:\tlearn: 0.4161789\ttotal: 6.67s\tremaining: 206ms\n",
      "970:\tlearn: 0.4160864\ttotal: 6.68s\tremaining: 200ms\n",
      "971:\tlearn: 0.4156677\ttotal: 6.68s\tremaining: 193ms\n",
      "972:\tlearn: 0.4155789\ttotal: 6.69s\tremaining: 186ms\n",
      "973:\tlearn: 0.4155511\ttotal: 6.7s\tremaining: 179ms\n",
      "974:\tlearn: 0.4154938\ttotal: 6.7s\tremaining: 172ms\n",
      "975:\tlearn: 0.4152421\ttotal: 6.71s\tremaining: 165ms\n",
      "976:\tlearn: 0.4152124\ttotal: 6.71s\tremaining: 158ms\n",
      "977:\tlearn: 0.4151527\ttotal: 6.72s\tremaining: 151ms\n",
      "978:\tlearn: 0.4151251\ttotal: 6.73s\tremaining: 144ms\n",
      "979:\tlearn: 0.4147072\ttotal: 6.73s\tremaining: 137ms\n",
      "980:\tlearn: 0.4146339\ttotal: 6.74s\tremaining: 131ms\n",
      "981:\tlearn: 0.4144851\ttotal: 6.74s\tremaining: 124ms\n",
      "982:\tlearn: 0.4141659\ttotal: 6.75s\tremaining: 117ms\n",
      "983:\tlearn: 0.4140482\ttotal: 6.75s\tremaining: 110ms\n",
      "984:\tlearn: 0.4139790\ttotal: 6.76s\tremaining: 103ms\n",
      "985:\tlearn: 0.4137862\ttotal: 6.77s\tremaining: 96.1ms\n",
      "986:\tlearn: 0.4137429\ttotal: 6.77s\tremaining: 89.2ms\n",
      "987:\tlearn: 0.4130275\ttotal: 6.78s\tremaining: 82.3ms\n",
      "988:\tlearn: 0.4129494\ttotal: 6.79s\tremaining: 75.5ms\n",
      "989:\tlearn: 0.4128421\ttotal: 6.8s\tremaining: 68.7ms\n",
      "990:\tlearn: 0.4126248\ttotal: 6.81s\tremaining: 61.9ms\n",
      "991:\tlearn: 0.4125510\ttotal: 6.82s\tremaining: 55ms\n",
      "992:\tlearn: 0.4122944\ttotal: 6.82s\tremaining: 48.1ms\n",
      "993:\tlearn: 0.4122124\ttotal: 6.83s\tremaining: 41.2ms\n",
      "994:\tlearn: 0.4121137\ttotal: 6.84s\tremaining: 34.4ms\n",
      "995:\tlearn: 0.4119746\ttotal: 6.84s\tremaining: 27.5ms\n",
      "996:\tlearn: 0.4119286\ttotal: 6.85s\tremaining: 20.6ms\n",
      "997:\tlearn: 0.4118665\ttotal: 6.85s\tremaining: 13.7ms\n",
      "998:\tlearn: 0.4117039\ttotal: 6.86s\tremaining: 6.87ms\n",
      "999:\tlearn: 0.4115590\ttotal: 6.87s\tremaining: 0us\n"
     ]
    },
    {
     "data": {
      "text/plain": [
       "<catboost.core.CatBoostClassifier at 0x1a257d1630>"
      ]
     },
     "execution_count": 36,
     "metadata": {},
     "output_type": "execute_result"
    }
   ],
   "source": [
    "cat.fit(X, y)"
   ]
  },
  {
   "cell_type": "code",
   "execution_count": 37,
   "metadata": {},
   "outputs": [],
   "source": [
    "p_pred = cat.predict_proba(X_test)"
   ]
  },
  {
   "cell_type": "code",
   "execution_count": 38,
   "metadata": {},
   "outputs": [],
   "source": [
    "cat_score = roc_auc_score(y_score=p_pred[:, 1], y_true=y_test)"
   ]
  },
  {
   "cell_type": "code",
   "execution_count": 39,
   "metadata": {},
   "outputs": [
    {
     "data": {
      "image/png": "[encoded data removed]",
      "text/plain": [
       "<Figure size 432x288 with 1 Axes>"
      ]
     },
     "metadata": {},
     "output_type": "display_data"
    }
   ],
   "source": [
    "plot_roc(y_test, p_pred, plot_micro = False, plot_macro= False);"
   ]
  },
  {
   "cell_type": "markdown",
   "metadata": {},
   "source": [
    "### Resultados"
   ]
  },
  {
   "cell_type": "code",
   "execution_count": 40,
   "metadata": {},
   "outputs": [
    {
     "name": "stdout",
     "output_type": "stream",
     "text": [
      "Random Forest                 : 0.50\n",
      "XGBoost                       : 0.58\n",
      "LightGBM                      : 0.56\n",
      "Logistic Regression           : 0.52\n",
      "Catboost                      : 0.54\n"
     ]
    }
   ],
   "source": [
    "model_score = [rf_score, xg_score, lg_score, log_score, cat_score]\n",
    "model_name = ['Random Forest', 'XGBoost', 'LightGBM', 'Logistic Regression', 'Catboost']\n",
    "for score, name in zip(model_score, model_name):\n",
    "    print('{:30}: {:.2f}'.format(name, score))"
   ]
  }
 ],
 "metadata": {
  "kernelspec": {
   "display_name": "Python 3",
   "language": "python",
   "name": "python3"
  },
  "language_info": {
   "codemirror_mode": {
    "name": "ipython",
    "version": 3
   },
   "file_extension": ".py",
   "mimetype": "text/x-python",
   "name": "python",
   "nbconvert_exporter": "python",
   "pygments_lexer": "ipython3",
   "version": "3.6.5"
  }
 },
 "nbformat": 4,
 "nbformat_minor": 2
}
